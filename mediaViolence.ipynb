{
 "cells": [
  {
   "cell_type": "markdown",
   "metadata": {},
   "source": [
    "# Introduction and Background"
   ]
  },
  {
   "cell_type": "markdown",
   "metadata": {},
   "source": [
    "Media is deeply coupled with American culture; in 2017 alone almost 600 million tickets were sold at movie theaters in the US (http://www.the-numbers.com/market/). How is the media consumed affecting the public?\n",
    "\n",
    "One theory presents media as a possibly negative influencer of culture. Dating back even to the 1950's, media has often been villainized as an inciter of violence. More recently in 1999, a Gallup poll found that 62% of the poulation believed violent media was a major cause of violent actions (http://www.gallup.com/poll/5626/blame-game-youth-media-violence.aspx). Often mass shootings are immeditaley tied to the culprit's media consumption habits; this happenned famously with Sandy Hook, and also with San Bernardino (https://www.thea-blast.org/top-stories/2016/01/14/is-violence-in-the-media-to-blame-for-mass-shootings/).\n",
    "Society clearly concedes that movies should be content restricted, and age restricted as proved with our TV censor laws as well as movie rating system (https://en.wikipedia.org/wiki/Censorship_in_the_United_States https://en.wikipedia.org/wiki/Motion_Picture_Association_of_America_film_rating_system). Violent films are screened, and children are prevented from viewing them. Yet common sense tells us that with media being such a hallmark of our culture, media cannot create violent people. People can enjoy violent films without being incited to commit violence.\n",
    "\n",
    "Though there is an immediate desire to blame media for violence, research actually often states the opposite. There was a study done by the National Bureau of Economic Research in which violent films were shown to reduce violent crime and drug consumption. Specifically “estimates suggest that in the short-run violent movies deter almost 1,000 assaults on an average weekend” (http://www.nber.org/papers/w13718). This study claims that the violent nature of the films serves as an outlet for violent energy, thus leading to less committed acts. Our team wonders if there is an effect of violent media in the long run. We also wonder about the validity of their claim that the violent content itself is what influences the deterance of violent acts in the short run?\n",
    "\n",
    "Other researchers disagree that violent films do promote aggression (http://www.nytimes.com/2008/01/07/business/media/07violence.html). This study argues that exposure to violence increases over all agressive behavior. This article however fails to answer to the fact that there is a decrease in violent crime in the short run in conjunction with violent films.\n",
    "\n",
    "Another study, asnwering to the decrease in violent crime, says it is not the content of the films that cause that reduced crime. The paper asserts that it is not a result of genre, but a result of occupying young men (those most likely to commit violent crime). This article also offers that specific actors could contribute to crime rate as well. (https://eml.berkeley.edu/~sdellavi/wp/moviescrimeQJEProofs2009.pdf).\n",
    "\n",
    "There is clearly a lot of controversy and differing opinions surrounding the topic of violent media's effects on the public. Does violent media have long term effects? Will the effect of violent media be seen through a larger time scale? Is violent film the only genre which will influence crime rate? Do other genres that attract young male audiences effect crime similarly to violent films?\n",
    "\n",
    "We hope to combine these questions in one project looking at genre specifically and enlarging the time frame. This will give us a better, more complete, picture on violent crime and its interaction with media.\n",
    "Our question stands: How does the number of each genre of film produced per year affect crime rate in San Diego? Is there a large scale, large time frame, influence deriving from the type of media consumed?"
   ]
  },
  {
   "cell_type": "markdown",
   "metadata": {},
   "source": [
    "# Data Description"
   ]
  },
  {
   "cell_type": "markdown",
   "metadata": {},
   "source": [
    "We originally started with three data sets, two relating to crime and one relating to movies.\n",
    "\n",
    "Our movie data set was taken from Kaggle and was already pre scraped for us off of IMDB. This data set contained movies dating back 100 years, and each entry had information about title, main actor, genre, director, budget, year released, rating, and more. The data set can be found at : https://www.kaggle.com/deepmatrix/imdb-5000-movie-dataset. In total the data contains 5044 entries. We hope to use this data to make new dataframes that isolate movies by year released and by genre.\n",
    "\n",
    "When we load this data we call it \"moviedata\" and the file is called \"movie_metadata.csv.\"\n",
    "\n",
    "We then had two data sets on crime, one national and one local to the San Diego region. Our local data set spanned from 2008 to 2012 and had detailed information on time, location, and type of each crime in the San Diego region. This data can be found at : http://data.sandiegodata.org/dataset/clarinova_com-crime-incidents-casnd-7ba4-extract and has 797979 entries. This data will be used initally in our analysis just of the years 2008 - 2012 to see if there are local large scale effects to media consumption.\n",
    "\n",
    "When we load this data we call it \"incidents\" and the file is called \"incidents-5y.csv.\"\n",
    "\n",
    "Our national dataset has data dating back to 1960 which reported number of crime by types (murder, robbery etc) corresponding to year. The national data set can be found at : https://data.world/government/uniform-crime-reports and had 53 entries. This data set will be used after our preliminary tests to enlarge our timescale and frame.\n",
    "\n",
    "When we load this data we call it \"reportNational\" and the file is called \"CrimeReports.csv.\""
   ]
  },
  {
   "cell_type": "code",
   "execution_count": 1,
   "metadata": {
    "collapsed": true
   },
   "outputs": [],
   "source": [
    "#Import all the packages we needed\n",
    "%matplotlib inline\n",
    "%config Inlinebackend.figure_format = 'retina'\n",
    "import numpy as np\n",
    "import matplotlib.pyplot as plt\n",
    "import seaborn as sns\n",
    "import pandas as pd\n",
    "import patsy\n",
    "import statsmodels.api as sm\n",
    "from scipy.stats import chi2_contingency\n",
    "from sklearn import datasets"
   ]
  },
  {
   "cell_type": "code",
   "execution_count": 137,
   "metadata": {
    "collapsed": false
   },
   "outputs": [],
   "source": [
    "#Load the data\n",
    "moviedata = pd.read_csv(\"movie_metadata.csv\") \n",
    "incidents = pd.read_csv(\"incidents-5y.csv\")\n",
    "reportNational = pd.read_csv(\"Uniform crime reports.csv\")"
   ]
  },
  {
   "cell_type": "markdown",
   "metadata": {},
   "source": [
    "# Data Cleaning/Pre-processing"
   ]
  },
  {
   "cell_type": "markdown",
   "metadata": {
    "collapsed": false
   },
   "source": [
    "We are only interested in certain parts of the dataframe so we're going to select the year, the title of the movie, the genre, the keywords, the country and the rating of the movie."
   ]
  },
  {
   "cell_type": "code",
   "execution_count": 3,
   "metadata": {
    "collapsed": true
   },
   "outputs": [],
   "source": [
    "#Data Clean for the moviedata \n",
    "#Select: \n",
    "#       title_year, movie_title, genres, plot_keywords, country, content_rating\n",
    "#Methods: \n",
    "#        drop all the NAN and extract \"USA\" movies\n",
    "\n",
    "movie1 = moviedata[['title_year','movie_title','genres','plot_keywords','country','content_rating']]\n",
    "movie2 = movie1.dropna()\n",
    "movieUSA = movie2[movie2['country'] == \"USA\"]\n",
    "\n",
    "USASort = movieUSA.sort_values(['title_year'], ascending = True)"
   ]
  },
  {
   "cell_type": "code",
   "execution_count": 4,
   "metadata": {
    "collapsed": true
   },
   "outputs": [],
   "source": [
    "#sort values in ascending year from 2008 to 2012\n",
    "Myear0812 = USASort[(USASort['title_year'] >= 2008) & (USASort['title_year'] <= 2012)].reset_index(drop=True)"
   ]
  },
  {
   "cell_type": "markdown",
   "metadata": {
    "collapsed": false
   },
   "source": [
    "We think that roughly the same number of movies have been released each year between 2008 and 2012 so we're going to visualize it.\n"
   ]
  },
  {
   "cell_type": "code",
   "execution_count": 5,
   "metadata": {
    "collapsed": false
   },
   "outputs": [
    {
     "data": {
      "text/plain": [
       "<matplotlib.axes._subplots.AxesSubplot at 0x117626d30>"
      ]
     },
     "execution_count": 5,
     "metadata": {},
     "output_type": "execute_result"
    },
    {
     "data": {
      "image/png": "[encoded data removed]",
      "text/plain": [
       "<matplotlib.figure.Figure at 0x117626208>"
      ]
     },
     "metadata": {},
     "output_type": "display_data"
    }
   ],
   "source": [
    "#Movie production in each year from 2008-2012 approximate the same\n",
    "plt.figure(figsize = (15,3))\n",
    "year = Myear0812.loc[:, 'title_year'].value_counts().sort_index()\n",
    "\n",
    "year.plot.bar()"
   ]
  },
  {
   "cell_type": "code",
   "execution_count": 6,
   "metadata": {
    "collapsed": true
   },
   "outputs": [],
   "source": [
    "#Sort data into df by year\n",
    "Mgy08 = USASort[USASort['title_year'] == 2008.0]\n",
    "Mgy09 = USASort[USASort['title_year'] == 2009.0]\n",
    "Mgy10 = USASort[USASort['title_year'] == 2010.0]\n",
    "Mgy11 = USASort[USASort['title_year'] == 2011.0]\n",
    "Mgy12 = USASort[USASort['title_year'] == 2012.0]"
   ]
  },
  {
   "cell_type": "code",
   "execution_count": 7,
   "metadata": {
    "collapsed": true
   },
   "outputs": [],
   "source": [
    "#Set Variable for all movie genres \n",
    "ser_genres = ['Action','Animation','Comedy','Documentary','Family','Horror','Musical','Romance', 'Sport','War','Adventure','Biography','Crime','Drama','Fantasy','History','Music','Mystery','Sci-Fi','Thriller','Western']\n"
   ]
  },
  {
   "cell_type": "code",
   "execution_count": 8,
   "metadata": {
    "collapsed": false
   },
   "outputs": [],
   "source": [
    "#Creating a new data frame for 2008 to 2012\n",
    "df08 = pd.DataFrame(ser_genres)\n",
    "df08['n'] = 0\n",
    "df08.columns =['genres','n']\n",
    "df09 = pd.DataFrame(ser_genres)\n",
    "df09['n'] = 0\n",
    "df09.columns =['genres','n']\n",
    "df10 = pd.DataFrame(ser_genres)\n",
    "df10['n'] = 0\n",
    "df10.columns =['genres','n']\n",
    "df11 = pd.DataFrame(ser_genres)\n",
    "df11['n'] = 0\n",
    "df11.columns =['genres','n']\n",
    "df12 = pd.DataFrame(ser_genres)\n",
    "df12['n'] = 0\n",
    "df12.columns =['genres','n']"
   ]
  },
  {
   "cell_type": "code",
   "execution_count": 9,
   "metadata": {
    "collapsed": true
   },
   "outputs": [],
   "source": [
    "#Function: get a substring from the Series and return number x in series, y in string\n",
    "def countString(x, y):\n",
    "    num = x.str.contains(y).value_counts()      \n",
    "    if num[False] == len(x):\n",
    "        return 0\n",
    "    else:\n",
    "        num = num[True]\n",
    "        return num"
   ]
  },
  {
   "cell_type": "code",
   "execution_count": 10,
   "metadata": {
    "collapsed": true
   },
   "outputs": [],
   "source": [
    "#Function: get data and store in df_temp\n",
    "def fillDataFramesMov(database,df_temp):\n",
    "    for i in range (0,len(df_temp)):\n",
    "        n = countString(database['genres'],df_temp.ix[i,'genres'])\n",
    "        df_temp.ix[i,'n'] = n \n",
    "    return df_temp"
   ]
  },
  {
   "cell_type": "code",
   "execution_count": 11,
   "metadata": {
    "collapsed": true
   },
   "outputs": [],
   "source": [
    "def fillDataFramesCrime(database,df_temp):\n",
    "    for i in range (0,len(df_temp)):\n",
    "        n = countString(database['type'],df_temp.ix[i,'crime'])\n",
    "        df_temp.ix[i,'n'] = n \n",
    "    return df_temp"
   ]
  },
  {
   "cell_type": "code",
   "execution_count": 12,
   "metadata": {
    "collapsed": false,
    "scrolled": true
   },
   "outputs": [],
   "source": [
    "#Assign frequency to the movie genres in 2008\n",
    "df08 = fillDataFramesMov(Mgy08,df08)"
   ]
  },
  {
   "cell_type": "code",
   "execution_count": 13,
   "metadata": {
    "collapsed": true
   },
   "outputs": [],
   "source": [
    "#Assign frequency to the movie genres in 2009\n",
    "df09 = fillDataFramesMov(Mgy09,df09)"
   ]
  },
  {
   "cell_type": "code",
   "execution_count": 14,
   "metadata": {
    "collapsed": true
   },
   "outputs": [],
   "source": [
    "#Assign frequency to the movie genres in 2010\n",
    "df10 = fillDataFramesMov(Mgy10,df10)"
   ]
  },
  {
   "cell_type": "code",
   "execution_count": 15,
   "metadata": {
    "collapsed": true
   },
   "outputs": [],
   "source": [
    "#Assign frequency to the movie genres in 2011\n",
    "df11 = fillDataFramesMov(Mgy11,df11)"
   ]
  },
  {
   "cell_type": "code",
   "execution_count": 16,
   "metadata": {
    "collapsed": true
   },
   "outputs": [],
   "source": [
    "#Assign frequency to the movie genres in 2012\n",
    "df12 = fillDataFramesMov(Mgy12,df12)"
   ]
  },
  {
   "cell_type": "code",
   "execution_count": 103,
   "metadata": {
    "collapsed": true
   },
   "outputs": [],
   "source": [
    "#Clean for the incidents data\n",
    "#Select: year, is_night, type, city, nbrhood, asr_zone, lat, lon\n",
    "#Method: assuming incidents happened in commercial area (asr_zone = 6.0)\n",
    "#        we want population close to the theather(commmerical) area \n",
    "#        drop all NAN.\n",
    "#        taking 1000 samples randomly\n",
    "\n",
    "incidents1 = incidents[['year', 'is_night', 'type', 'city', 'nbrhood', 'asr_zone', 'lat', 'lon']]\n",
    "incidentsN = incidents1.dropna()\n",
    "\n",
    "commercial = incidentsN[incidentsN['asr_zone'] == 6]\n",
    "\n",
    "c = commercial.sample(n=1000).reset_index(drop=True)\n"
   ]
  },
  {
   "cell_type": "markdown",
   "metadata": {
    "collapsed": false
   },
   "source": [
    "We want to know which crimes occur more often than others. We don't think that each type of crime occurs as often as others. Let's visualize this in the form of a bar graph."
   ]
  },
  {
   "cell_type": "code",
   "execution_count": 104,
   "metadata": {
    "collapsed": false
   },
   "outputs": [
    {
     "data": {
      "image/png": "[encoded data removed]",
      "text/plain": [
       "<matplotlib.figure.Figure at 0x11447dfd0>"
      ]
     },
     "metadata": {},
     "output_type": "display_data"
    }
   ],
   "source": [
    "#Categorization of crime from our 1000 samples\n",
    "plt.figure(figsize = (10,3))\n",
    "x = c.loc[:, 'type'].value_counts()  \n",
    "x.plot.barh().invert_yaxis()\n",
    "\n",
    "plt.xlabel('Event Count', color = \"Blue\")\n",
    "\n",
    "f1 = plt.gcf()"
   ]
  },
  {
   "cell_type": "markdown",
   "metadata": {
    "collapsed": false
   },
   "source": [
    "We see that drug and alcohol violations are the most popular in San Diego but the number of theft/larceny crimes are much higher than the number of sex crimes and ones regarding weapons."
   ]
  },
  {
   "cell_type": "code",
   "execution_count": 105,
   "metadata": {
    "collapsed": true
   },
   "outputs": [],
   "source": [
    "#Get each title year in crime\n",
    "c08 = c[c['year'] == 2008]\n",
    "c09 = c[c['year'] == 2009]\n",
    "c10 = c[c['year'] == 2010]\n",
    "c11 = c[c['year'] == 2011]\n",
    "c12 = c[c['year'] == 2012]"
   ]
  },
  {
   "cell_type": "code",
   "execution_count": 106,
   "metadata": {
    "collapsed": true
   },
   "outputs": [],
   "source": [
    "#Crime by category\n",
    "ser_crimes = ['DRUGS','LARCENY','VEHICLE','MOTOR','ASSAULT','BURGLARY','VANDALISM','DUI','ROBBERY','FRAUD','SEX','WEAPONS','ARSON','HOMICIDE']\n"
   ]
  },
  {
   "cell_type": "code",
   "execution_count": 107,
   "metadata": {
    "collapsed": true
   },
   "outputs": [],
   "source": [
    "#Creating a new data frame for 2008 to 2012\n",
    "dfc08 = pd.DataFrame(ser_crimes)\n",
    "dfc08['n'] = 0\n",
    "dfc08.columns =['crime','n']\n",
    "dfc09 = pd.DataFrame(ser_crimes)\n",
    "dfc09['n'] = 0\n",
    "dfc09.columns =['crime','n']\n",
    "dfc10 = pd.DataFrame(ser_crimes)\n",
    "dfc10['n'] = 0\n",
    "dfc10.columns =['crime','n']\n",
    "dfc11 = pd.DataFrame(ser_crimes)\n",
    "dfc11['n'] = 0\n",
    "dfc11.columns =['crime','n']\n",
    "dfc12 = pd.DataFrame(ser_crimes)\n",
    "dfc12['n'] = 0\n",
    "dfc12.columns =['crime','n']"
   ]
  },
  {
   "cell_type": "code",
   "execution_count": 108,
   "metadata": {
    "collapsed": false
   },
   "outputs": [],
   "source": [
    "#Assign frequency to the movie genres in 2008\n",
    "dfc08 = fillDataFramesCrime(c08,dfc08)"
   ]
  },
  {
   "cell_type": "code",
   "execution_count": 109,
   "metadata": {
    "collapsed": true
   },
   "outputs": [],
   "source": [
    "#Assign frequency to the movie genres in 2009\n",
    "dfc09 = fillDataFramesCrime(c09,dfc09)"
   ]
  },
  {
   "cell_type": "code",
   "execution_count": 110,
   "metadata": {
    "collapsed": true
   },
   "outputs": [],
   "source": [
    "#Assign frequency to the movie genres in 2010\n",
    "dfc10 = fillDataFramesCrime(c10,dfc10)"
   ]
  },
  {
   "cell_type": "code",
   "execution_count": 111,
   "metadata": {
    "collapsed": true
   },
   "outputs": [],
   "source": [
    "#Assign frequency to the movie genres in 2011\n",
    "dfc11 = fillDataFramesCrime(c11,dfc11)"
   ]
  },
  {
   "cell_type": "code",
   "execution_count": 112,
   "metadata": {
    "collapsed": false
   },
   "outputs": [],
   "source": [
    "#Assign frequency to the movie genres in 2012\n",
    "dfc12 = fillDataFramesCrime(c12,dfc12)"
   ]
  },
  {
   "cell_type": "markdown",
   "metadata": {
    "collapsed": true
   },
   "source": [
    "Movie genres in year: df08 - df12\n",
    ", Crime type in year: dfc08 - dfc12"
   ]
  },
  {
   "cell_type": "code",
   "execution_count": 113,
   "metadata": {
    "collapsed": false
   },
   "outputs": [],
   "source": [
    "#Merge all Genres by Year\n",
    "df08.columns = ['Genres','2008']\n",
    "df09.columns = ['Genres','2009']\n",
    "df10.columns = ['Genres','2010']\n",
    "df11.columns = ['Genres','2011']\n",
    "df12.columns = ['Genres','2012']\n",
    "\n",
    "genresY = df08.merge(df09, on='Genres').merge(df10, on='Genres').merge(df11, on='Genres').merge(df12, on='Genres')\n",
    "genresY = pd.pivot_table(genresY, index = 'Genres')"
   ]
  },
  {
   "cell_type": "code",
   "execution_count": 114,
   "metadata": {
    "collapsed": false,
    "scrolled": true
   },
   "outputs": [
    {
     "data": {
      "text/html": [
       "<div>\n",
       "<table border=\"1\" class=\"dataframe\">\n",
       "  <thead>\n",
       "    <tr style=\"text-align: right;\">\n",
       "      <th></th>\n",
       "      <th>Crime</th>\n",
       "      <th>2008</th>\n",
       "      <th>2009</th>\n",
       "      <th>2010</th>\n",
       "      <th>2011</th>\n",
       "      <th>2012</th>\n",
       "    </tr>\n",
       "  </thead>\n",
       "  <tbody>\n",
       "    <tr>\n",
       "      <th>0</th>\n",
       "      <td>DRUGS</td>\n",
       "      <td>73</td>\n",
       "      <td>68</td>\n",
       "      <td>65</td>\n",
       "      <td>50</td>\n",
       "      <td>54</td>\n",
       "    </tr>\n",
       "    <tr>\n",
       "      <th>1</th>\n",
       "      <td>LARCENY</td>\n",
       "      <td>30</td>\n",
       "      <td>31</td>\n",
       "      <td>26</td>\n",
       "      <td>38</td>\n",
       "      <td>43</td>\n",
       "    </tr>\n",
       "    <tr>\n",
       "      <th>2</th>\n",
       "      <td>VEHICLE</td>\n",
       "      <td>39</td>\n",
       "      <td>26</td>\n",
       "      <td>31</td>\n",
       "      <td>32</td>\n",
       "      <td>21</td>\n",
       "    </tr>\n",
       "    <tr>\n",
       "      <th>3</th>\n",
       "      <td>MOTOR</td>\n",
       "      <td>17</td>\n",
       "      <td>7</td>\n",
       "      <td>13</td>\n",
       "      <td>12</td>\n",
       "      <td>7</td>\n",
       "    </tr>\n",
       "    <tr>\n",
       "      <th>4</th>\n",
       "      <td>ASSAULT</td>\n",
       "      <td>18</td>\n",
       "      <td>25</td>\n",
       "      <td>17</td>\n",
       "      <td>16</td>\n",
       "      <td>16</td>\n",
       "    </tr>\n",
       "    <tr>\n",
       "      <th>5</th>\n",
       "      <td>BURGLARY</td>\n",
       "      <td>9</td>\n",
       "      <td>7</td>\n",
       "      <td>15</td>\n",
       "      <td>14</td>\n",
       "      <td>11</td>\n",
       "    </tr>\n",
       "    <tr>\n",
       "      <th>6</th>\n",
       "      <td>VANDALISM</td>\n",
       "      <td>16</td>\n",
       "      <td>11</td>\n",
       "      <td>7</td>\n",
       "      <td>10</td>\n",
       "      <td>11</td>\n",
       "    </tr>\n",
       "    <tr>\n",
       "      <th>7</th>\n",
       "      <td>DUI</td>\n",
       "      <td>9</td>\n",
       "      <td>17</td>\n",
       "      <td>14</td>\n",
       "      <td>12</td>\n",
       "      <td>6</td>\n",
       "    </tr>\n",
       "    <tr>\n",
       "      <th>8</th>\n",
       "      <td>ROBBERY</td>\n",
       "      <td>7</td>\n",
       "      <td>5</td>\n",
       "      <td>8</td>\n",
       "      <td>10</td>\n",
       "      <td>5</td>\n",
       "    </tr>\n",
       "    <tr>\n",
       "      <th>9</th>\n",
       "      <td>FRAUD</td>\n",
       "      <td>8</td>\n",
       "      <td>6</td>\n",
       "      <td>12</td>\n",
       "      <td>6</td>\n",
       "      <td>3</td>\n",
       "    </tr>\n",
       "    <tr>\n",
       "      <th>10</th>\n",
       "      <td>SEX</td>\n",
       "      <td>8</td>\n",
       "      <td>8</td>\n",
       "      <td>6</td>\n",
       "      <td>10</td>\n",
       "      <td>2</td>\n",
       "    </tr>\n",
       "    <tr>\n",
       "      <th>11</th>\n",
       "      <td>WEAPONS</td>\n",
       "      <td>3</td>\n",
       "      <td>1</td>\n",
       "      <td>1</td>\n",
       "      <td>1</td>\n",
       "      <td>0</td>\n",
       "    </tr>\n",
       "    <tr>\n",
       "      <th>12</th>\n",
       "      <td>ARSON</td>\n",
       "      <td>0</td>\n",
       "      <td>0</td>\n",
       "      <td>1</td>\n",
       "      <td>0</td>\n",
       "      <td>0</td>\n",
       "    </tr>\n",
       "    <tr>\n",
       "      <th>13</th>\n",
       "      <td>HOMICIDE</td>\n",
       "      <td>1</td>\n",
       "      <td>0</td>\n",
       "      <td>0</td>\n",
       "      <td>0</td>\n",
       "      <td>0</td>\n",
       "    </tr>\n",
       "  </tbody>\n",
       "</table>\n",
       "</div>"
      ],
      "text/plain": [
       "        Crime  2008  2009  2010  2011  2012\n",
       "0       DRUGS    73    68    65    50    54\n",
       "1     LARCENY    30    31    26    38    43\n",
       "2     VEHICLE    39    26    31    32    21\n",
       "3       MOTOR    17     7    13    12     7\n",
       "4     ASSAULT    18    25    17    16    16\n",
       "5    BURGLARY     9     7    15    14    11\n",
       "6   VANDALISM    16    11     7    10    11\n",
       "7         DUI     9    17    14    12     6\n",
       "8     ROBBERY     7     5     8    10     5\n",
       "9       FRAUD     8     6    12     6     3\n",
       "10        SEX     8     8     6    10     2\n",
       "11    WEAPONS     3     1     1     1     0\n",
       "12      ARSON     0     0     1     0     0\n",
       "13   HOMICIDE     1     0     0     0     0"
      ]
     },
     "execution_count": 114,
     "metadata": {},
     "output_type": "execute_result"
    }
   ],
   "source": [
    "#Merge all Crime by Year\n",
    "dfc08.columns = ['Crime','2008']\n",
    "dfc09.columns = ['Crime','2009']\n",
    "dfc10.columns = ['Crime','2010']\n",
    "dfc11.columns = ['Crime','2011']\n",
    "dfc12.columns = ['Crime','2012']\n",
    "\n",
    "crimeY = dfc08.merge(dfc09, on='Crime').merge(dfc10, on='Crime').merge(dfc11, on='Crime').merge(dfc12, on='Crime')\n",
    "\n",
    "#removes rows and columns with only 0s\n",
    "#used later for chi-squared test\n",
    "crime_no_zero = crimeY[:12]\n",
    "crime_no_zero = crime_no_zero.drop('2012', 1)\n",
    "crime_no_zero = pd.pivot_table(crime_no_zero, index = \"Crime\")\n",
    "#crime_no_zero\n",
    "\n",
    "crime_pivot = pd.pivot_table(crimeY, index = \"Crime\")\n",
    "crime_pivot\n",
    "crimeY"
   ]
  },
  {
   "cell_type": "code",
   "execution_count": 115,
   "metadata": {
    "collapsed": false
   },
   "outputs": [],
   "source": [
    "#Creates data frame with columns being genres\n",
    "genByGen = genresY.transpose()\n",
    "genByGen.columns = ser_genres\n",
    "#genByGen = genByGen.drop(genByGen.index[[0]])\n",
    "genByGen.index.name = 'Year'\n",
    "#genByGen"
   ]
  },
  {
   "cell_type": "code",
   "execution_count": 116,
   "metadata": {
    "collapsed": false
   },
   "outputs": [
    {
     "data": {
      "text/html": [
       "<div>\n",
       "<table border=\"1\" class=\"dataframe\">\n",
       "  <thead>\n",
       "    <tr style=\"text-align: right;\">\n",
       "      <th></th>\n",
       "      <th>DRUGS</th>\n",
       "      <th>LARCENY</th>\n",
       "      <th>VEHICLE</th>\n",
       "      <th>MOTOR</th>\n",
       "      <th>ASSAULT</th>\n",
       "      <th>BURGLARY</th>\n",
       "      <th>VANDALISM</th>\n",
       "      <th>DUI</th>\n",
       "      <th>ROBBERY</th>\n",
       "      <th>FRAUD</th>\n",
       "      <th>SEX</th>\n",
       "      <th>WEAPONS</th>\n",
       "      <th>ARSON</th>\n",
       "      <th>HOMICIDE</th>\n",
       "    </tr>\n",
       "    <tr>\n",
       "      <th>Year</th>\n",
       "      <th></th>\n",
       "      <th></th>\n",
       "      <th></th>\n",
       "      <th></th>\n",
       "      <th></th>\n",
       "      <th></th>\n",
       "      <th></th>\n",
       "      <th></th>\n",
       "      <th></th>\n",
       "      <th></th>\n",
       "      <th></th>\n",
       "      <th></th>\n",
       "      <th></th>\n",
       "      <th></th>\n",
       "    </tr>\n",
       "  </thead>\n",
       "  <tbody>\n",
       "    <tr>\n",
       "      <th>2008</th>\n",
       "      <td>73</td>\n",
       "      <td>30</td>\n",
       "      <td>39</td>\n",
       "      <td>17</td>\n",
       "      <td>18</td>\n",
       "      <td>9</td>\n",
       "      <td>16</td>\n",
       "      <td>9</td>\n",
       "      <td>7</td>\n",
       "      <td>8</td>\n",
       "      <td>8</td>\n",
       "      <td>3</td>\n",
       "      <td>0</td>\n",
       "      <td>1</td>\n",
       "    </tr>\n",
       "    <tr>\n",
       "      <th>2009</th>\n",
       "      <td>68</td>\n",
       "      <td>31</td>\n",
       "      <td>26</td>\n",
       "      <td>7</td>\n",
       "      <td>25</td>\n",
       "      <td>7</td>\n",
       "      <td>11</td>\n",
       "      <td>17</td>\n",
       "      <td>5</td>\n",
       "      <td>6</td>\n",
       "      <td>8</td>\n",
       "      <td>1</td>\n",
       "      <td>0</td>\n",
       "      <td>0</td>\n",
       "    </tr>\n",
       "    <tr>\n",
       "      <th>2010</th>\n",
       "      <td>65</td>\n",
       "      <td>26</td>\n",
       "      <td>31</td>\n",
       "      <td>13</td>\n",
       "      <td>17</td>\n",
       "      <td>15</td>\n",
       "      <td>7</td>\n",
       "      <td>14</td>\n",
       "      <td>8</td>\n",
       "      <td>12</td>\n",
       "      <td>6</td>\n",
       "      <td>1</td>\n",
       "      <td>1</td>\n",
       "      <td>0</td>\n",
       "    </tr>\n",
       "    <tr>\n",
       "      <th>2011</th>\n",
       "      <td>50</td>\n",
       "      <td>38</td>\n",
       "      <td>32</td>\n",
       "      <td>12</td>\n",
       "      <td>16</td>\n",
       "      <td>14</td>\n",
       "      <td>10</td>\n",
       "      <td>12</td>\n",
       "      <td>10</td>\n",
       "      <td>6</td>\n",
       "      <td>10</td>\n",
       "      <td>1</td>\n",
       "      <td>0</td>\n",
       "      <td>0</td>\n",
       "    </tr>\n",
       "    <tr>\n",
       "      <th>2012</th>\n",
       "      <td>54</td>\n",
       "      <td>43</td>\n",
       "      <td>21</td>\n",
       "      <td>7</td>\n",
       "      <td>16</td>\n",
       "      <td>11</td>\n",
       "      <td>11</td>\n",
       "      <td>6</td>\n",
       "      <td>5</td>\n",
       "      <td>3</td>\n",
       "      <td>2</td>\n",
       "      <td>0</td>\n",
       "      <td>0</td>\n",
       "      <td>0</td>\n",
       "    </tr>\n",
       "  </tbody>\n",
       "</table>\n",
       "</div>"
      ],
      "text/plain": [
       "     DRUGS LARCENY VEHICLE MOTOR ASSAULT BURGLARY VANDALISM DUI ROBBERY FRAUD  \\\n",
       "Year                                                                            \n",
       "2008    73      30      39    17      18        9        16   9       7     8   \n",
       "2009    68      31      26     7      25        7        11  17       5     6   \n",
       "2010    65      26      31    13      17       15         7  14       8    12   \n",
       "2011    50      38      32    12      16       14        10  12      10     6   \n",
       "2012    54      43      21     7      16       11        11   6       5     3   \n",
       "\n",
       "     SEX WEAPONS ARSON HOMICIDE  \n",
       "Year                             \n",
       "2008   8       3     0        1  \n",
       "2009   8       1     0        0  \n",
       "2010   6       1     1        0  \n",
       "2011  10       1     0        0  \n",
       "2012   2       0     0        0  "
      ]
     },
     "execution_count": 116,
     "metadata": {},
     "output_type": "execute_result"
    }
   ],
   "source": [
    "#Creates data frame with columns being crime genres\n",
    "criByCri = crimeY.transpose()\n",
    "criByCri.columns = ser_crimes\n",
    "criByCri = criByCri.drop(criByCri.index[[0]])\n",
    "criByCri.index.name = 'Year'\n",
    "criByCri"
   ]
  },
  {
   "cell_type": "markdown",
   "metadata": {},
   "source": [
    "# Data Visualization"
   ]
  },
  {
   "cell_type": "code",
   "execution_count": 117,
   "metadata": {
    "collapsed": false
   },
   "outputs": [
    {
     "data": {
      "image/png": "[encoded data removed]",
      "text/plain": [
       "<matplotlib.figure.Figure at 0x10e551668>"
      ]
     },
     "metadata": {},
     "output_type": "display_data"
    },
    {
     "data": {
      "image/png": "[encoded data removed]",
      "text/plain": [
       "<matplotlib.figure.Figure at 0x102ff8f60>"
      ]
     },
     "metadata": {},
     "output_type": "display_data"
    },
    {
     "data": {
      "image/png": "[encoded data removed]",
      "text/plain": [
       "<matplotlib.figure.Figure at 0x117694588>"
      ]
     },
     "metadata": {},
     "output_type": "display_data"
    },
    {
     "data": {
      "image/png": "[encoded data removed]",
      "text/plain": [
       "<matplotlib.figure.Figure at 0x117c2a278>"
      ]
     },
     "metadata": {},
     "output_type": "display_data"
    },
    {
     "data": {
      "image/png": "[encoded data removed]",
      "text/plain": [
       "<matplotlib.figure.Figure at 0x1179c67b8>"
      ]
     },
     "metadata": {},
     "output_type": "display_data"
    }
   ],
   "source": [
    "#plot each year with proportional genres\n",
    "g1 =  genByGen.groupby(['Action','Animation','Comedy','Documentary','Family','Horror','Musical','Romance', 'Sport','War','Adventure','Biography','Crime','Drama',\n",
    "                  'Fantasy','History','Music','Mystery','Sci-Fi','Thriller','Western'])\n",
    "\n",
    "fig = g1.plot(kind='bar',figsize = (10,10),stacked=True,sharex =True)\n"
   ]
  },
  {
   "cell_type": "code",
   "execution_count": 118,
   "metadata": {
    "collapsed": true
   },
   "outputs": [],
   "source": [
    "#returns genre based on index\n",
    "def getGenre(num):\n",
    "    genrez = ['Action','Animation','Comedy','Documentary','Family','Horror','Musical','Romance', 'Sport','War','Adventure','Biography','Crime','Drama',\n",
    "                  'Fantasy','History','Music','Mystery','Sci-Fi','Thriller','Western']\n",
    "    return genrez[num]"
   ]
  },
  {
   "cell_type": "code",
   "execution_count": 119,
   "metadata": {
    "collapsed": true
   },
   "outputs": [],
   "source": [
    "#will make lines\n",
    "linesMov = pd.DataFrame(columns = ['Genres','a','b'])\n",
    "linesMov['Genres'] = ['Action','Animation','Comedy','Documentary','Family','Horror','Musical','Romance', 'Sport','War','Adventure','Biography','Crime','Drama',\n",
    "                  'Fantasy','History','Music','Mystery','Sci-Fi','Thriller','Western']"
   ]
  },
  {
   "cell_type": "code",
   "execution_count": 120,
   "metadata": {
    "collapsed": true
   },
   "outputs": [],
   "source": [
    "#x = np.array(genByGen[tempGen])\n",
    "#y = np.array(genByGen.index)\n",
    "#for i in range (0,(len(genByGen.columns))-1):\n",
    "#        tempGen = getGenre(i)\n",
    "#        a,b = np.polyfit(x,y,1)\n",
    "#        linesMov.ix[i,'a'] = a\n",
    "#        linesMov.ix[i,'b'] = b"
   ]
  },
  {
   "cell_type": "code",
   "execution_count": 121,
   "metadata": {
    "collapsed": false
   },
   "outputs": [
    {
     "data": {
      "text/plain": [
       "<matplotlib.axes._subplots.AxesSubplot at 0x11802c390>"
      ]
     },
     "execution_count": 121,
     "metadata": {},
     "output_type": "execute_result"
    },
    {
     "data": {
      "image/png": "[encoded data removed]",
      "text/plain": [
       "<matplotlib.figure.Figure at 0x11549e9e8>"
      ]
     },
     "metadata": {},
     "output_type": "display_data"
    }
   ],
   "source": [
    "#Plot line graph for each year x = 'genres', y = 'amounts'\n",
    "#each year is identical\n",
    "genresY.plot.bar(figsize = (15,5))"
   ]
  },
  {
   "cell_type": "code",
   "execution_count": 122,
   "metadata": {
    "collapsed": false
   },
   "outputs": [
    {
     "data": {
      "text/plain": [
       "<matplotlib.legend.Legend at 0x117c43d68>"
      ]
     },
     "execution_count": 122,
     "metadata": {},
     "output_type": "execute_result"
    },
    {
     "data": {
      "image/png": "[encoded data removed]",
      "text/plain": [
       "<matplotlib.figure.Figure at 0x117c2b6a0>"
      ]
     },
     "metadata": {},
     "output_type": "display_data"
    }
   ],
   "source": [
    "#Plot line graph for each year x = 'genres', y = 'amounts'\n",
    "#each year is identical\n",
    "genByGen.plot.barh(figsize = (15,10));plt.legend(loc='best')\n",
    "\n",
    "#genresY.plot.line(figsize = (15,5))\n",
    "#genresY['Action'].plot(kind='line')"
   ]
  },
  {
   "cell_type": "code",
   "execution_count": 123,
   "metadata": {
    "collapsed": false
   },
   "outputs": [
    {
     "data": {
      "text/plain": [
       "<matplotlib.axes._subplots.AxesSubplot at 0x118ba9ef0>"
      ]
     },
     "execution_count": 123,
     "metadata": {},
     "output_type": "execute_result"
    },
    {
     "data": {
      "image/png": "[encoded data removed]",
      "text/plain": [
       "<matplotlib.figure.Figure at 0x117d67e80>"
      ]
     },
     "metadata": {},
     "output_type": "display_data"
    }
   ],
   "source": [
    "#Plot line graph for each year x = 'crime type', y = 'amounts'\n",
    "#each year is identical\n",
    "crime_pivot.plot.bar(figsize = (15,5))"
   ]
  },
  {
   "cell_type": "code",
   "execution_count": 127,
   "metadata": {
    "collapsed": false
   },
   "outputs": [
    {
     "data": {
      "text/plain": [
       "<matplotlib.legend.Legend at 0x11a4b0a90>"
      ]
     },
     "execution_count": 127,
     "metadata": {},
     "output_type": "execute_result"
    },
    {
     "data": {
      "image/png": "[encoded data removed]",
      "text/plain": [
       "<matplotlib.figure.Figure at 0x118aa10f0>"
      ]
     },
     "metadata": {},
     "output_type": "display_data"
    }
   ],
   "source": [
    "#Plot line graph for each year x = 'crimes', y = 'amounts'\n",
    "#each year is identical\n",
    "criByCri.plot.bar(figsize = (10,10));plt.legend(loc='best')\n"
   ]
  },
  {
   "cell_type": "code",
   "execution_count": 95,
   "metadata": {
    "collapsed": false,
    "scrolled": true
   },
   "outputs": [
    {
     "data": {
      "image/png": "[encoded data removed]",
      "text/plain": [
       "<matplotlib.figure.Figure at 0x11785ff28>"
      ]
     },
     "metadata": {},
     "output_type": "display_data"
    }
   ],
   "source": [
    "#crime 08\n",
    "sns.set(style=\"whitegrid\", color_codes=True)\n",
    "sns.barplot(x='2008', y='Crime', data=crimeY, orient = \"h\");"
   ]
  },
  {
   "cell_type": "code",
   "execution_count": 96,
   "metadata": {
    "collapsed": false
   },
   "outputs": [
    {
     "data": {
      "image/png": "[encoded data removed]",
      "text/plain": [
       "<matplotlib.figure.Figure at 0x1179b8f60>"
      ]
     },
     "metadata": {},
     "output_type": "display_data"
    }
   ],
   "source": [
    "#crime 09\n",
    "sns.set(style=\"whitegrid\", color_codes=True)\n",
    "sns.barplot(x='2009', y='Crime', data=crimeY, orient = \"h\");"
   ]
  },
  {
   "cell_type": "code",
   "execution_count": 97,
   "metadata": {
    "collapsed": false
   },
   "outputs": [
    {
     "data": {
      "image/png": "[encoded data removed]",
      "text/plain": [
       "<matplotlib.figure.Figure at 0x117b11080>"
      ]
     },
     "metadata": {},
     "output_type": "display_data"
    }
   ],
   "source": [
    "#crime 10\n",
    "sns.set(style=\"whitegrid\", color_codes=True)\n",
    "sns.barplot(x='2010', y='Crime', data=crimeY, orient = \"h\");"
   ]
  },
  {
   "cell_type": "code",
   "execution_count": 98,
   "metadata": {
    "collapsed": false
   },
   "outputs": [
    {
     "data": {
      "image/png": "[encoded data removed]",
      "text/plain": [
       "<matplotlib.figure.Figure at 0x117c08748>"
      ]
     },
     "metadata": {},
     "output_type": "display_data"
    }
   ],
   "source": [
    "#crime 11\n",
    "sns.set(style=\"whitegrid\", color_codes=True)\n",
    "sns.barplot(x='2011', y='Crime', data=crimeY, orient = \"h\");"
   ]
  },
  {
   "cell_type": "code",
   "execution_count": 43,
   "metadata": {
    "collapsed": true
   },
   "outputs": [],
   "source": [
    "#Take year, genres, country from USASort and select movies from 1960-2012\n",
    "m1 = USASort[['title_year', 'genres', 'country']]\n",
    "m1 = m1[(m1.title_year > 1959) & (m1.title_year < 2013)]\n"
   ]
  },
  {
   "cell_type": "code",
   "execution_count": 44,
   "metadata": {
    "collapsed": true
   },
   "outputs": [],
   "source": [
    "#Get Crime, War, Horror, Action movies from Genres\n",
    "c = 'Crime'\n",
    "w = 'War'\n",
    "h = 'Horror'\n",
    "a = 'Action'\n",
    "\n",
    "for index, row in m1.iterrows():\n",
    "    if row['genres'].find(c or w or h or a) == -1 :\n",
    "        m1.drop(index, inplace=True)"
   ]
  },
  {
   "cell_type": "code",
   "execution_count": 45,
   "metadata": {
    "collapsed": true
   },
   "outputs": [],
   "source": [
    "#Group and count genres which contains keyword 'crime','war','horror','action' in response to the year\n",
    "m1 = m1[['title_year', 'genres']]\n",
    "m1 = m1.groupby('title_year').count()"
   ]
  },
  {
   "cell_type": "code",
   "execution_count": 46,
   "metadata": {
    "collapsed": true
   },
   "outputs": [],
   "source": [
    "#Creating a vector that represents the keywoards in each year\n",
    "vector = np.array([0, 1,1,1,0,0,1,2, 0,1,0,4,2,2,1,0,1, 0,0,2,1,3,1,3,3,2,2,5,4,4,5,9,8,8,16,17,23,25,20,23,26,41,35,31,22,24,21,27,22,29,24,19,\n",
    "27])"
   ]
  },
  {
   "cell_type": "code",
   "execution_count": 149,
   "metadata": {
    "collapsed": false
   },
   "outputs": [
    {
     "data": {
      "text/html": [
       "<div>\n",
       "<table border=\"1\" class=\"dataframe\">\n",
       "  <thead>\n",
       "    <tr style=\"text-align: right;\">\n",
       "      <th></th>\n",
       "      <th>Year</th>\n",
       "      <th>Population</th>\n",
       "      <th>Violent crime total</th>\n",
       "      <th>Murder and nonnegligent Manslaughter</th>\n",
       "      <th>Forcible rape</th>\n",
       "      <th>Robbery</th>\n",
       "      <th>Aggravated assault</th>\n",
       "      <th>Property crime total</th>\n",
       "      <th>Burglary</th>\n",
       "      <th>Larceny-theft</th>\n",
       "      <th>Motor vehicle theft</th>\n",
       "    </tr>\n",
       "  </thead>\n",
       "  <tbody>\n",
       "    <tr>\n",
       "      <th>0</th>\n",
       "      <td>1960</td>\n",
       "      <td>179323175</td>\n",
       "      <td>288460</td>\n",
       "      <td>9110</td>\n",
       "      <td>17190</td>\n",
       "      <td>107840</td>\n",
       "      <td>154320</td>\n",
       "      <td>3095700</td>\n",
       "      <td>912100</td>\n",
       "      <td>1855400</td>\n",
       "      <td>328200</td>\n",
       "    </tr>\n",
       "    <tr>\n",
       "      <th>1</th>\n",
       "      <td>1961</td>\n",
       "      <td>182992000</td>\n",
       "      <td>289390</td>\n",
       "      <td>8740</td>\n",
       "      <td>17220</td>\n",
       "      <td>106670</td>\n",
       "      <td>156760</td>\n",
       "      <td>3198600</td>\n",
       "      <td>949600</td>\n",
       "      <td>1913000</td>\n",
       "      <td>336000</td>\n",
       "    </tr>\n",
       "    <tr>\n",
       "      <th>2</th>\n",
       "      <td>1962</td>\n",
       "      <td>185771000</td>\n",
       "      <td>301510</td>\n",
       "      <td>8530</td>\n",
       "      <td>17550</td>\n",
       "      <td>110860</td>\n",
       "      <td>164570</td>\n",
       "      <td>3450700</td>\n",
       "      <td>994300</td>\n",
       "      <td>2089600</td>\n",
       "      <td>366800</td>\n",
       "    </tr>\n",
       "    <tr>\n",
       "      <th>3</th>\n",
       "      <td>1963</td>\n",
       "      <td>188483000</td>\n",
       "      <td>316970</td>\n",
       "      <td>8640</td>\n",
       "      <td>17650</td>\n",
       "      <td>116470</td>\n",
       "      <td>174210</td>\n",
       "      <td>3792500</td>\n",
       "      <td>1086400</td>\n",
       "      <td>2297800</td>\n",
       "      <td>408300</td>\n",
       "    </tr>\n",
       "    <tr>\n",
       "      <th>4</th>\n",
       "      <td>1964</td>\n",
       "      <td>191141000</td>\n",
       "      <td>364220</td>\n",
       "      <td>9360</td>\n",
       "      <td>21420</td>\n",
       "      <td>130390</td>\n",
       "      <td>203050</td>\n",
       "      <td>4200400</td>\n",
       "      <td>1213200</td>\n",
       "      <td>2514400</td>\n",
       "      <td>472800</td>\n",
       "    </tr>\n",
       "    <tr>\n",
       "      <th>5</th>\n",
       "      <td>1965</td>\n",
       "      <td>193526000</td>\n",
       "      <td>387390</td>\n",
       "      <td>9960</td>\n",
       "      <td>23410</td>\n",
       "      <td>138690</td>\n",
       "      <td>215330</td>\n",
       "      <td>4352000</td>\n",
       "      <td>1282500</td>\n",
       "      <td>2572600</td>\n",
       "      <td>496900</td>\n",
       "    </tr>\n",
       "    <tr>\n",
       "      <th>6</th>\n",
       "      <td>1966</td>\n",
       "      <td>195576000</td>\n",
       "      <td>430180</td>\n",
       "      <td>11040</td>\n",
       "      <td>25820</td>\n",
       "      <td>157990</td>\n",
       "      <td>235330</td>\n",
       "      <td>4793300</td>\n",
       "      <td>1410100</td>\n",
       "      <td>2822000</td>\n",
       "      <td>561200</td>\n",
       "    </tr>\n",
       "    <tr>\n",
       "      <th>7</th>\n",
       "      <td>1967</td>\n",
       "      <td>197457000</td>\n",
       "      <td>499930</td>\n",
       "      <td>12240</td>\n",
       "      <td>27620</td>\n",
       "      <td>202910</td>\n",
       "      <td>257160</td>\n",
       "      <td>5403500</td>\n",
       "      <td>1632100</td>\n",
       "      <td>3111600</td>\n",
       "      <td>659800</td>\n",
       "    </tr>\n",
       "    <tr>\n",
       "      <th>8</th>\n",
       "      <td>1968</td>\n",
       "      <td>199399000</td>\n",
       "      <td>595010</td>\n",
       "      <td>13800</td>\n",
       "      <td>31670</td>\n",
       "      <td>262840</td>\n",
       "      <td>286700</td>\n",
       "      <td>6125200</td>\n",
       "      <td>1858900</td>\n",
       "      <td>3482700</td>\n",
       "      <td>783600</td>\n",
       "    </tr>\n",
       "    <tr>\n",
       "      <th>9</th>\n",
       "      <td>1969</td>\n",
       "      <td>201385000</td>\n",
       "      <td>661870</td>\n",
       "      <td>14760</td>\n",
       "      <td>37170</td>\n",
       "      <td>298850</td>\n",
       "      <td>311090</td>\n",
       "      <td>6749000</td>\n",
       "      <td>1981900</td>\n",
       "      <td>3888600</td>\n",
       "      <td>878500</td>\n",
       "    </tr>\n",
       "    <tr>\n",
       "      <th>10</th>\n",
       "      <td>1970</td>\n",
       "      <td>203235298</td>\n",
       "      <td>738820</td>\n",
       "      <td>16000</td>\n",
       "      <td>37990</td>\n",
       "      <td>349860</td>\n",
       "      <td>334970</td>\n",
       "      <td>7359200</td>\n",
       "      <td>2205000</td>\n",
       "      <td>4225800</td>\n",
       "      <td>928400</td>\n",
       "    </tr>\n",
       "    <tr>\n",
       "      <th>11</th>\n",
       "      <td>1971</td>\n",
       "      <td>206212000</td>\n",
       "      <td>816500</td>\n",
       "      <td>17780</td>\n",
       "      <td>42260</td>\n",
       "      <td>387700</td>\n",
       "      <td>368760</td>\n",
       "      <td>7771700</td>\n",
       "      <td>2399300</td>\n",
       "      <td>4424200</td>\n",
       "      <td>948200</td>\n",
       "    </tr>\n",
       "    <tr>\n",
       "      <th>12</th>\n",
       "      <td>1972</td>\n",
       "      <td>208230000</td>\n",
       "      <td>834900</td>\n",
       "      <td>18670</td>\n",
       "      <td>46850</td>\n",
       "      <td>376290</td>\n",
       "      <td>393090</td>\n",
       "      <td>7413900</td>\n",
       "      <td>2375500</td>\n",
       "      <td>4151200</td>\n",
       "      <td>887200</td>\n",
       "    </tr>\n",
       "    <tr>\n",
       "      <th>13</th>\n",
       "      <td>1973</td>\n",
       "      <td>209851000</td>\n",
       "      <td>875910</td>\n",
       "      <td>19640</td>\n",
       "      <td>51400</td>\n",
       "      <td>384220</td>\n",
       "      <td>420650</td>\n",
       "      <td>7842200</td>\n",
       "      <td>2565500</td>\n",
       "      <td>4347900</td>\n",
       "      <td>928800</td>\n",
       "    </tr>\n",
       "    <tr>\n",
       "      <th>14</th>\n",
       "      <td>1974</td>\n",
       "      <td>211392000</td>\n",
       "      <td>974720</td>\n",
       "      <td>20710</td>\n",
       "      <td>55400</td>\n",
       "      <td>442400</td>\n",
       "      <td>456210</td>\n",
       "      <td>9278700</td>\n",
       "      <td>3039200</td>\n",
       "      <td>5262500</td>\n",
       "      <td>977100</td>\n",
       "    </tr>\n",
       "    <tr>\n",
       "      <th>15</th>\n",
       "      <td>1975</td>\n",
       "      <td>213124000</td>\n",
       "      <td>1039710</td>\n",
       "      <td>20510</td>\n",
       "      <td>56090</td>\n",
       "      <td>470500</td>\n",
       "      <td>492620</td>\n",
       "      <td>10252700</td>\n",
       "      <td>3265300</td>\n",
       "      <td>5977700</td>\n",
       "      <td>1009600</td>\n",
       "    </tr>\n",
       "    <tr>\n",
       "      <th>16</th>\n",
       "      <td>1976</td>\n",
       "      <td>214659000</td>\n",
       "      <td>1004210</td>\n",
       "      <td>18780</td>\n",
       "      <td>57080</td>\n",
       "      <td>427810</td>\n",
       "      <td>500530</td>\n",
       "      <td>10345500</td>\n",
       "      <td>3108700</td>\n",
       "      <td>6270800</td>\n",
       "      <td>966000</td>\n",
       "    </tr>\n",
       "    <tr>\n",
       "      <th>17</th>\n",
       "      <td>1977</td>\n",
       "      <td>216332000</td>\n",
       "      <td>1029580</td>\n",
       "      <td>19120</td>\n",
       "      <td>63500</td>\n",
       "      <td>412610</td>\n",
       "      <td>534350</td>\n",
       "      <td>9955000</td>\n",
       "      <td>3071500</td>\n",
       "      <td>5905700</td>\n",
       "      <td>977700</td>\n",
       "    </tr>\n",
       "    <tr>\n",
       "      <th>18</th>\n",
       "      <td>1978</td>\n",
       "      <td>218059000</td>\n",
       "      <td>1085550</td>\n",
       "      <td>19560</td>\n",
       "      <td>67610</td>\n",
       "      <td>426930</td>\n",
       "      <td>571460</td>\n",
       "      <td>10123400</td>\n",
       "      <td>3128300</td>\n",
       "      <td>5991000</td>\n",
       "      <td>1004100</td>\n",
       "    </tr>\n",
       "    <tr>\n",
       "      <th>19</th>\n",
       "      <td>1979</td>\n",
       "      <td>220099000</td>\n",
       "      <td>1208030</td>\n",
       "      <td>21460</td>\n",
       "      <td>76390</td>\n",
       "      <td>480700</td>\n",
       "      <td>629480</td>\n",
       "      <td>11041500</td>\n",
       "      <td>3327700</td>\n",
       "      <td>6601000</td>\n",
       "      <td>1112800</td>\n",
       "    </tr>\n",
       "    <tr>\n",
       "      <th>20</th>\n",
       "      <td>1980</td>\n",
       "      <td>225349264</td>\n",
       "      <td>1344520</td>\n",
       "      <td>23040</td>\n",
       "      <td>82990</td>\n",
       "      <td>565840</td>\n",
       "      <td>672650</td>\n",
       "      <td>12063700</td>\n",
       "      <td>3795200</td>\n",
       "      <td>7136900</td>\n",
       "      <td>1131700</td>\n",
       "    </tr>\n",
       "    <tr>\n",
       "      <th>21</th>\n",
       "      <td>1981</td>\n",
       "      <td>229465714</td>\n",
       "      <td>1361820</td>\n",
       "      <td>22520</td>\n",
       "      <td>82500</td>\n",
       "      <td>592910</td>\n",
       "      <td>663900</td>\n",
       "      <td>12061900</td>\n",
       "      <td>3779700</td>\n",
       "      <td>7194400</td>\n",
       "      <td>1087800</td>\n",
       "    </tr>\n",
       "    <tr>\n",
       "      <th>22</th>\n",
       "      <td>1982</td>\n",
       "      <td>231664458</td>\n",
       "      <td>1322390</td>\n",
       "      <td>21010</td>\n",
       "      <td>78770</td>\n",
       "      <td>553130</td>\n",
       "      <td>669480</td>\n",
       "      <td>11652000</td>\n",
       "      <td>3447100</td>\n",
       "      <td>7142500</td>\n",
       "      <td>1062400</td>\n",
       "    </tr>\n",
       "    <tr>\n",
       "      <th>23</th>\n",
       "      <td>1983</td>\n",
       "      <td>233791994</td>\n",
       "      <td>1258087</td>\n",
       "      <td>19308</td>\n",
       "      <td>78918</td>\n",
       "      <td>506567</td>\n",
       "      <td>653294</td>\n",
       "      <td>10850543</td>\n",
       "      <td>3129851</td>\n",
       "      <td>6712759</td>\n",
       "      <td>1007933</td>\n",
       "    </tr>\n",
       "    <tr>\n",
       "      <th>24</th>\n",
       "      <td>1984</td>\n",
       "      <td>235824902</td>\n",
       "      <td>1273282</td>\n",
       "      <td>18692</td>\n",
       "      <td>84233</td>\n",
       "      <td>485008</td>\n",
       "      <td>685349</td>\n",
       "      <td>10608473</td>\n",
       "      <td>2984434</td>\n",
       "      <td>6591874</td>\n",
       "      <td>1032165</td>\n",
       "    </tr>\n",
       "    <tr>\n",
       "      <th>25</th>\n",
       "      <td>1985</td>\n",
       "      <td>237923795</td>\n",
       "      <td>1327767</td>\n",
       "      <td>18976</td>\n",
       "      <td>87671</td>\n",
       "      <td>497874</td>\n",
       "      <td>723246</td>\n",
       "      <td>11102590</td>\n",
       "      <td>3073348</td>\n",
       "      <td>6926380</td>\n",
       "      <td>1102862</td>\n",
       "    </tr>\n",
       "    <tr>\n",
       "      <th>26</th>\n",
       "      <td>1986</td>\n",
       "      <td>240132887</td>\n",
       "      <td>1489169</td>\n",
       "      <td>20613</td>\n",
       "      <td>91459</td>\n",
       "      <td>542775</td>\n",
       "      <td>834322</td>\n",
       "      <td>11722700</td>\n",
       "      <td>3241410</td>\n",
       "      <td>7257153</td>\n",
       "      <td>1224137</td>\n",
       "    </tr>\n",
       "    <tr>\n",
       "      <th>27</th>\n",
       "      <td>1987</td>\n",
       "      <td>242288918</td>\n",
       "      <td>1483999</td>\n",
       "      <td>20096</td>\n",
       "      <td>91111</td>\n",
       "      <td>517704</td>\n",
       "      <td>855088</td>\n",
       "      <td>12024709</td>\n",
       "      <td>3236184</td>\n",
       "      <td>7499851</td>\n",
       "      <td>1288674</td>\n",
       "    </tr>\n",
       "    <tr>\n",
       "      <th>28</th>\n",
       "      <td>1988</td>\n",
       "      <td>244498982</td>\n",
       "      <td>1566221</td>\n",
       "      <td>20675</td>\n",
       "      <td>92486</td>\n",
       "      <td>542968</td>\n",
       "      <td>910092</td>\n",
       "      <td>12356865</td>\n",
       "      <td>3218077</td>\n",
       "      <td>7705872</td>\n",
       "      <td>1432916</td>\n",
       "    </tr>\n",
       "    <tr>\n",
       "      <th>29</th>\n",
       "      <td>1989</td>\n",
       "      <td>246819230</td>\n",
       "      <td>1646037</td>\n",
       "      <td>21500</td>\n",
       "      <td>94504</td>\n",
       "      <td>578326</td>\n",
       "      <td>951707</td>\n",
       "      <td>12605412</td>\n",
       "      <td>3168170</td>\n",
       "      <td>7872442</td>\n",
       "      <td>1564800</td>\n",
       "    </tr>\n",
       "    <tr>\n",
       "      <th>30</th>\n",
       "      <td>1990</td>\n",
       "      <td>249464396</td>\n",
       "      <td>1820127</td>\n",
       "      <td>23438</td>\n",
       "      <td>102555</td>\n",
       "      <td>639271</td>\n",
       "      <td>1054863</td>\n",
       "      <td>12655486</td>\n",
       "      <td>3073909</td>\n",
       "      <td>7945670</td>\n",
       "      <td>1635907</td>\n",
       "    </tr>\n",
       "    <tr>\n",
       "      <th>31</th>\n",
       "      <td>1991</td>\n",
       "      <td>252153092</td>\n",
       "      <td>1911767</td>\n",
       "      <td>24703</td>\n",
       "      <td>106593</td>\n",
       "      <td>687732</td>\n",
       "      <td>1092739</td>\n",
       "      <td>12961116</td>\n",
       "      <td>3157150</td>\n",
       "      <td>8142228</td>\n",
       "      <td>1661738</td>\n",
       "    </tr>\n",
       "    <tr>\n",
       "      <th>32</th>\n",
       "      <td>1992</td>\n",
       "      <td>255029699</td>\n",
       "      <td>1932274</td>\n",
       "      <td>23760</td>\n",
       "      <td>109062</td>\n",
       "      <td>672478</td>\n",
       "      <td>1126974</td>\n",
       "      <td>12505917</td>\n",
       "      <td>2979884</td>\n",
       "      <td>7915199</td>\n",
       "      <td>1610834</td>\n",
       "    </tr>\n",
       "    <tr>\n",
       "      <th>33</th>\n",
       "      <td>1993</td>\n",
       "      <td>257782608</td>\n",
       "      <td>1926017</td>\n",
       "      <td>24526</td>\n",
       "      <td>106014</td>\n",
       "      <td>659870</td>\n",
       "      <td>1135607</td>\n",
       "      <td>12218777</td>\n",
       "      <td>2834808</td>\n",
       "      <td>7820909</td>\n",
       "      <td>1563060</td>\n",
       "    </tr>\n",
       "    <tr>\n",
       "      <th>34</th>\n",
       "      <td>1994</td>\n",
       "      <td>260327021</td>\n",
       "      <td>1857670</td>\n",
       "      <td>23326</td>\n",
       "      <td>102216</td>\n",
       "      <td>618949</td>\n",
       "      <td>1113179</td>\n",
       "      <td>12131873</td>\n",
       "      <td>2712774</td>\n",
       "      <td>7879812</td>\n",
       "      <td>1539287</td>\n",
       "    </tr>\n",
       "    <tr>\n",
       "      <th>35</th>\n",
       "      <td>1995</td>\n",
       "      <td>262803276</td>\n",
       "      <td>1798792</td>\n",
       "      <td>21606</td>\n",
       "      <td>97470</td>\n",
       "      <td>580509</td>\n",
       "      <td>1099207</td>\n",
       "      <td>12063935</td>\n",
       "      <td>2593784</td>\n",
       "      <td>7997710</td>\n",
       "      <td>1472441</td>\n",
       "    </tr>\n",
       "    <tr>\n",
       "      <th>36</th>\n",
       "      <td>1996</td>\n",
       "      <td>265228572</td>\n",
       "      <td>1688540</td>\n",
       "      <td>19645</td>\n",
       "      <td>96252</td>\n",
       "      <td>535594</td>\n",
       "      <td>1037049</td>\n",
       "      <td>11805323</td>\n",
       "      <td>2506400</td>\n",
       "      <td>7904685</td>\n",
       "      <td>1394238</td>\n",
       "    </tr>\n",
       "    <tr>\n",
       "      <th>37</th>\n",
       "      <td>1997</td>\n",
       "      <td>267783607</td>\n",
       "      <td>1636096</td>\n",
       "      <td>18208</td>\n",
       "      <td>96153</td>\n",
       "      <td>498534</td>\n",
       "      <td>1023201</td>\n",
       "      <td>11558475</td>\n",
       "      <td>2460526</td>\n",
       "      <td>7743760</td>\n",
       "      <td>1354189</td>\n",
       "    </tr>\n",
       "    <tr>\n",
       "      <th>38</th>\n",
       "      <td>1998</td>\n",
       "      <td>270248003</td>\n",
       "      <td>1533887</td>\n",
       "      <td>16974</td>\n",
       "      <td>93144</td>\n",
       "      <td>447186</td>\n",
       "      <td>976583</td>\n",
       "      <td>10951827</td>\n",
       "      <td>2332735</td>\n",
       "      <td>7376311</td>\n",
       "      <td>1242781</td>\n",
       "    </tr>\n",
       "    <tr>\n",
       "      <th>39</th>\n",
       "      <td>1999</td>\n",
       "      <td>272690813</td>\n",
       "      <td>1426044</td>\n",
       "      <td>15522</td>\n",
       "      <td>89411</td>\n",
       "      <td>409371</td>\n",
       "      <td>911740</td>\n",
       "      <td>10208334</td>\n",
       "      <td>2100739</td>\n",
       "      <td>6955520</td>\n",
       "      <td>1152075</td>\n",
       "    </tr>\n",
       "    <tr>\n",
       "      <th>40</th>\n",
       "      <td>2000</td>\n",
       "      <td>281421906</td>\n",
       "      <td>1425486</td>\n",
       "      <td>15586</td>\n",
       "      <td>90178</td>\n",
       "      <td>408016</td>\n",
       "      <td>911706</td>\n",
       "      <td>10182584</td>\n",
       "      <td>2050992</td>\n",
       "      <td>6971590</td>\n",
       "      <td>1160002</td>\n",
       "    </tr>\n",
       "    <tr>\n",
       "      <th>41</th>\n",
       "      <td>2001</td>\n",
       "      <td>285317559</td>\n",
       "      <td>1439480</td>\n",
       "      <td>16037</td>\n",
       "      <td>90863</td>\n",
       "      <td>423557</td>\n",
       "      <td>909023</td>\n",
       "      <td>10437189</td>\n",
       "      <td>2116531</td>\n",
       "      <td>7092267</td>\n",
       "      <td>1228391</td>\n",
       "    </tr>\n",
       "    <tr>\n",
       "      <th>42</th>\n",
       "      <td>2002</td>\n",
       "      <td>287973924</td>\n",
       "      <td>1423677</td>\n",
       "      <td>16229</td>\n",
       "      <td>95235</td>\n",
       "      <td>420806</td>\n",
       "      <td>891407</td>\n",
       "      <td>10455277</td>\n",
       "      <td>2151252</td>\n",
       "      <td>7057379</td>\n",
       "      <td>1246646</td>\n",
       "    </tr>\n",
       "    <tr>\n",
       "      <th>43</th>\n",
       "      <td>2003</td>\n",
       "      <td>290788976</td>\n",
       "      <td>1383676</td>\n",
       "      <td>16528</td>\n",
       "      <td>93883</td>\n",
       "      <td>414235</td>\n",
       "      <td>859030</td>\n",
       "      <td>10442862</td>\n",
       "      <td>2154834</td>\n",
       "      <td>7026802</td>\n",
       "      <td>1261226</td>\n",
       "    </tr>\n",
       "    <tr>\n",
       "      <th>44</th>\n",
       "      <td>2004</td>\n",
       "      <td>293656842</td>\n",
       "      <td>1360088</td>\n",
       "      <td>16148</td>\n",
       "      <td>95089</td>\n",
       "      <td>401470</td>\n",
       "      <td>847381</td>\n",
       "      <td>10319386</td>\n",
       "      <td>2144446</td>\n",
       "      <td>6937089</td>\n",
       "      <td>1237851</td>\n",
       "    </tr>\n",
       "    <tr>\n",
       "      <th>45</th>\n",
       "      <td>2005</td>\n",
       "      <td>296507061</td>\n",
       "      <td>1390745</td>\n",
       "      <td>16740</td>\n",
       "      <td>94347</td>\n",
       "      <td>417438</td>\n",
       "      <td>862220</td>\n",
       "      <td>10174754</td>\n",
       "      <td>2155448</td>\n",
       "      <td>6783447</td>\n",
       "      <td>1235859</td>\n",
       "    </tr>\n",
       "    <tr>\n",
       "      <th>46</th>\n",
       "      <td>2006</td>\n",
       "      <td>299398484</td>\n",
       "      <td>1435123</td>\n",
       "      <td>17309</td>\n",
       "      <td>94472</td>\n",
       "      <td>449246</td>\n",
       "      <td>874096</td>\n",
       "      <td>10019601</td>\n",
       "      <td>2194993</td>\n",
       "      <td>6626363</td>\n",
       "      <td>1198245</td>\n",
       "    </tr>\n",
       "    <tr>\n",
       "      <th>47</th>\n",
       "      <td>2007</td>\n",
       "      <td>301621157</td>\n",
       "      <td>1422970</td>\n",
       "      <td>17128</td>\n",
       "      <td>92160</td>\n",
       "      <td>447324</td>\n",
       "      <td>866358</td>\n",
       "      <td>9882212</td>\n",
       "      <td>2190198</td>\n",
       "      <td>6591542</td>\n",
       "      <td>1100472</td>\n",
       "    </tr>\n",
       "    <tr>\n",
       "      <th>48</th>\n",
       "      <td>2008</td>\n",
       "      <td>304059724</td>\n",
       "      <td>1394461</td>\n",
       "      <td>16465</td>\n",
       "      <td>90750</td>\n",
       "      <td>443563</td>\n",
       "      <td>843683</td>\n",
       "      <td>9774152</td>\n",
       "      <td>2228887</td>\n",
       "      <td>6586206</td>\n",
       "      <td>959059</td>\n",
       "    </tr>\n",
       "    <tr>\n",
       "      <th>49</th>\n",
       "      <td>2009</td>\n",
       "      <td>307006550</td>\n",
       "      <td>1325896</td>\n",
       "      <td>15399</td>\n",
       "      <td>89241</td>\n",
       "      <td>408742</td>\n",
       "      <td>812514</td>\n",
       "      <td>9337060</td>\n",
       "      <td>2203313</td>\n",
       "      <td>6338095</td>\n",
       "      <td>795652</td>\n",
       "    </tr>\n",
       "    <tr>\n",
       "      <th>50</th>\n",
       "      <td>2010</td>\n",
       "      <td>309330219</td>\n",
       "      <td>1251248</td>\n",
       "      <td>14722</td>\n",
       "      <td>85593</td>\n",
       "      <td>369089</td>\n",
       "      <td>781844</td>\n",
       "      <td>9112625</td>\n",
       "      <td>2168459</td>\n",
       "      <td>6204601</td>\n",
       "      <td>739565</td>\n",
       "    </tr>\n",
       "    <tr>\n",
       "      <th>51</th>\n",
       "      <td>2011</td>\n",
       "      <td>311587816</td>\n",
       "      <td>1206031</td>\n",
       "      <td>14661</td>\n",
       "      <td>84175</td>\n",
       "      <td>354772</td>\n",
       "      <td>752423</td>\n",
       "      <td>9052743</td>\n",
       "      <td>2185140</td>\n",
       "      <td>6151095</td>\n",
       "      <td>716508</td>\n",
       "    </tr>\n",
       "    <tr>\n",
       "      <th>52</th>\n",
       "      <td>2012</td>\n",
       "      <td>313914040</td>\n",
       "      <td>1214464</td>\n",
       "      <td>14827</td>\n",
       "      <td>84376</td>\n",
       "      <td>354522</td>\n",
       "      <td>760739</td>\n",
       "      <td>8975438</td>\n",
       "      <td>2103787</td>\n",
       "      <td>6150598</td>\n",
       "      <td>721053</td>\n",
       "    </tr>\n",
       "  </tbody>\n",
       "</table>\n",
       "</div>"
      ],
      "text/plain": [
       "    Year  Population  Violent crime total  \\\n",
       "0   1960   179323175               288460   \n",
       "1   1961   182992000               289390   \n",
       "2   1962   185771000               301510   \n",
       "3   1963   188483000               316970   \n",
       "4   1964   191141000               364220   \n",
       "5   1965   193526000               387390   \n",
       "6   1966   195576000               430180   \n",
       "7   1967   197457000               499930   \n",
       "8   1968   199399000               595010   \n",
       "9   1969   201385000               661870   \n",
       "10  1970   203235298               738820   \n",
       "11  1971   206212000               816500   \n",
       "12  1972   208230000               834900   \n",
       "13  1973   209851000               875910   \n",
       "14  1974   211392000               974720   \n",
       "15  1975   213124000              1039710   \n",
       "16  1976   214659000              1004210   \n",
       "17  1977   216332000              1029580   \n",
       "18  1978   218059000              1085550   \n",
       "19  1979   220099000              1208030   \n",
       "20  1980   225349264              1344520   \n",
       "21  1981   229465714              1361820   \n",
       "22  1982   231664458              1322390   \n",
       "23  1983   233791994              1258087   \n",
       "24  1984   235824902              1273282   \n",
       "25  1985   237923795              1327767   \n",
       "26  1986   240132887              1489169   \n",
       "27  1987   242288918              1483999   \n",
       "28  1988   244498982              1566221   \n",
       "29  1989   246819230              1646037   \n",
       "30  1990   249464396              1820127   \n",
       "31  1991   252153092              1911767   \n",
       "32  1992   255029699              1932274   \n",
       "33  1993   257782608              1926017   \n",
       "34  1994   260327021              1857670   \n",
       "35  1995   262803276              1798792   \n",
       "36  1996   265228572              1688540   \n",
       "37  1997   267783607              1636096   \n",
       "38  1998   270248003              1533887   \n",
       "39  1999   272690813              1426044   \n",
       "40  2000   281421906              1425486   \n",
       "41  2001   285317559              1439480   \n",
       "42  2002   287973924              1423677   \n",
       "43  2003   290788976              1383676   \n",
       "44  2004   293656842              1360088   \n",
       "45  2005   296507061              1390745   \n",
       "46  2006   299398484              1435123   \n",
       "47  2007   301621157              1422970   \n",
       "48  2008   304059724              1394461   \n",
       "49  2009   307006550              1325896   \n",
       "50  2010   309330219              1251248   \n",
       "51  2011   311587816              1206031   \n",
       "52  2012   313914040              1214464   \n",
       "\n",
       "    Murder and nonnegligent Manslaughter  Forcible rape  Robbery  \\\n",
       "0                                   9110          17190   107840   \n",
       "1                                   8740          17220   106670   \n",
       "2                                   8530          17550   110860   \n",
       "3                                   8640          17650   116470   \n",
       "4                                   9360          21420   130390   \n",
       "5                                   9960          23410   138690   \n",
       "6                                  11040          25820   157990   \n",
       "7                                  12240          27620   202910   \n",
       "8                                  13800          31670   262840   \n",
       "9                                  14760          37170   298850   \n",
       "10                                 16000          37990   349860   \n",
       "11                                 17780          42260   387700   \n",
       "12                                 18670          46850   376290   \n",
       "13                                 19640          51400   384220   \n",
       "14                                 20710          55400   442400   \n",
       "15                                 20510          56090   470500   \n",
       "16                                 18780          57080   427810   \n",
       "17                                 19120          63500   412610   \n",
       "18                                 19560          67610   426930   \n",
       "19                                 21460          76390   480700   \n",
       "20                                 23040          82990   565840   \n",
       "21                                 22520          82500   592910   \n",
       "22                                 21010          78770   553130   \n",
       "23                                 19308          78918   506567   \n",
       "24                                 18692          84233   485008   \n",
       "25                                 18976          87671   497874   \n",
       "26                                 20613          91459   542775   \n",
       "27                                 20096          91111   517704   \n",
       "28                                 20675          92486   542968   \n",
       "29                                 21500          94504   578326   \n",
       "30                                 23438         102555   639271   \n",
       "31                                 24703         106593   687732   \n",
       "32                                 23760         109062   672478   \n",
       "33                                 24526         106014   659870   \n",
       "34                                 23326         102216   618949   \n",
       "35                                 21606          97470   580509   \n",
       "36                                 19645          96252   535594   \n",
       "37                                 18208          96153   498534   \n",
       "38                                 16974          93144   447186   \n",
       "39                                 15522          89411   409371   \n",
       "40                                 15586          90178   408016   \n",
       "41                                 16037          90863   423557   \n",
       "42                                 16229          95235   420806   \n",
       "43                                 16528          93883   414235   \n",
       "44                                 16148          95089   401470   \n",
       "45                                 16740          94347   417438   \n",
       "46                                 17309          94472   449246   \n",
       "47                                 17128          92160   447324   \n",
       "48                                 16465          90750   443563   \n",
       "49                                 15399          89241   408742   \n",
       "50                                 14722          85593   369089   \n",
       "51                                 14661          84175   354772   \n",
       "52                                 14827          84376   354522   \n",
       "\n",
       "    Aggravated assault  Property crime total  Burglary  Larceny-theft  \\\n",
       "0               154320               3095700    912100        1855400   \n",
       "1               156760               3198600    949600        1913000   \n",
       "2               164570               3450700    994300        2089600   \n",
       "3               174210               3792500   1086400        2297800   \n",
       "4               203050               4200400   1213200        2514400   \n",
       "5               215330               4352000   1282500        2572600   \n",
       "6               235330               4793300   1410100        2822000   \n",
       "7               257160               5403500   1632100        3111600   \n",
       "8               286700               6125200   1858900        3482700   \n",
       "9               311090               6749000   1981900        3888600   \n",
       "10              334970               7359200   2205000        4225800   \n",
       "11              368760               7771700   2399300        4424200   \n",
       "12              393090               7413900   2375500        4151200   \n",
       "13              420650               7842200   2565500        4347900   \n",
       "14              456210               9278700   3039200        5262500   \n",
       "15              492620              10252700   3265300        5977700   \n",
       "16              500530              10345500   3108700        6270800   \n",
       "17              534350               9955000   3071500        5905700   \n",
       "18              571460              10123400   3128300        5991000   \n",
       "19              629480              11041500   3327700        6601000   \n",
       "20              672650              12063700   3795200        7136900   \n",
       "21              663900              12061900   3779700        7194400   \n",
       "22              669480              11652000   3447100        7142500   \n",
       "23              653294              10850543   3129851        6712759   \n",
       "24              685349              10608473   2984434        6591874   \n",
       "25              723246              11102590   3073348        6926380   \n",
       "26              834322              11722700   3241410        7257153   \n",
       "27              855088              12024709   3236184        7499851   \n",
       "28              910092              12356865   3218077        7705872   \n",
       "29              951707              12605412   3168170        7872442   \n",
       "30             1054863              12655486   3073909        7945670   \n",
       "31             1092739              12961116   3157150        8142228   \n",
       "32             1126974              12505917   2979884        7915199   \n",
       "33             1135607              12218777   2834808        7820909   \n",
       "34             1113179              12131873   2712774        7879812   \n",
       "35             1099207              12063935   2593784        7997710   \n",
       "36             1037049              11805323   2506400        7904685   \n",
       "37             1023201              11558475   2460526        7743760   \n",
       "38              976583              10951827   2332735        7376311   \n",
       "39              911740              10208334   2100739        6955520   \n",
       "40              911706              10182584   2050992        6971590   \n",
       "41              909023              10437189   2116531        7092267   \n",
       "42              891407              10455277   2151252        7057379   \n",
       "43              859030              10442862   2154834        7026802   \n",
       "44              847381              10319386   2144446        6937089   \n",
       "45              862220              10174754   2155448        6783447   \n",
       "46              874096              10019601   2194993        6626363   \n",
       "47              866358               9882212   2190198        6591542   \n",
       "48              843683               9774152   2228887        6586206   \n",
       "49              812514               9337060   2203313        6338095   \n",
       "50              781844               9112625   2168459        6204601   \n",
       "51              752423               9052743   2185140        6151095   \n",
       "52              760739               8975438   2103787        6150598   \n",
       "\n",
       "    Motor vehicle theft  \n",
       "0                328200  \n",
       "1                336000  \n",
       "2                366800  \n",
       "3                408300  \n",
       "4                472800  \n",
       "5                496900  \n",
       "6                561200  \n",
       "7                659800  \n",
       "8                783600  \n",
       "9                878500  \n",
       "10               928400  \n",
       "11               948200  \n",
       "12               887200  \n",
       "13               928800  \n",
       "14               977100  \n",
       "15              1009600  \n",
       "16               966000  \n",
       "17               977700  \n",
       "18              1004100  \n",
       "19              1112800  \n",
       "20              1131700  \n",
       "21              1087800  \n",
       "22              1062400  \n",
       "23              1007933  \n",
       "24              1032165  \n",
       "25              1102862  \n",
       "26              1224137  \n",
       "27              1288674  \n",
       "28              1432916  \n",
       "29              1564800  \n",
       "30              1635907  \n",
       "31              1661738  \n",
       "32              1610834  \n",
       "33              1563060  \n",
       "34              1539287  \n",
       "35              1472441  \n",
       "36              1394238  \n",
       "37              1354189  \n",
       "38              1242781  \n",
       "39              1152075  \n",
       "40              1160002  \n",
       "41              1228391  \n",
       "42              1246646  \n",
       "43              1261226  \n",
       "44              1237851  \n",
       "45              1235859  \n",
       "46              1198245  \n",
       "47              1100472  \n",
       "48               959059  \n",
       "49               795652  \n",
       "50               739565  \n",
       "51               716508  \n",
       "52               721053  "
      ]
     },
     "execution_count": 149,
     "metadata": {},
     "output_type": "execute_result"
    }
   ],
   "source": [
    "#Get year, violent crime total from national report\n",
    "selection = reportNational[['Year', 'Violent crime total']]\n",
    "reportNational_pivot = pd.pivot_table(reportNational, index = \"Year\")\n",
    "\n",
    "reportNational\n"
   ]
  },
  {
   "cell_type": "code",
   "execution_count": 48,
   "metadata": {
    "collapsed": false
   },
   "outputs": [
    {
     "data": {
      "text/html": [
       "<div>\n",
       "<table border=\"1\" class=\"dataframe\">\n",
       "  <thead>\n",
       "    <tr style=\"text-align: right;\">\n",
       "      <th></th>\n",
       "      <th>year</th>\n",
       "      <th>violent crime</th>\n",
       "      <th>movies</th>\n",
       "    </tr>\n",
       "  </thead>\n",
       "  <tbody>\n",
       "    <tr>\n",
       "      <th>0</th>\n",
       "      <td>1960</td>\n",
       "      <td>288460</td>\n",
       "      <td>0</td>\n",
       "    </tr>\n",
       "    <tr>\n",
       "      <th>1</th>\n",
       "      <td>1961</td>\n",
       "      <td>289390</td>\n",
       "      <td>1</td>\n",
       "    </tr>\n",
       "    <tr>\n",
       "      <th>2</th>\n",
       "      <td>1962</td>\n",
       "      <td>301510</td>\n",
       "      <td>1</td>\n",
       "    </tr>\n",
       "    <tr>\n",
       "      <th>3</th>\n",
       "      <td>1963</td>\n",
       "      <td>316970</td>\n",
       "      <td>1</td>\n",
       "    </tr>\n",
       "    <tr>\n",
       "      <th>4</th>\n",
       "      <td>1964</td>\n",
       "      <td>364220</td>\n",
       "      <td>0</td>\n",
       "    </tr>\n",
       "    <tr>\n",
       "      <th>5</th>\n",
       "      <td>1965</td>\n",
       "      <td>387390</td>\n",
       "      <td>0</td>\n",
       "    </tr>\n",
       "    <tr>\n",
       "      <th>6</th>\n",
       "      <td>1966</td>\n",
       "      <td>430180</td>\n",
       "      <td>1</td>\n",
       "    </tr>\n",
       "    <tr>\n",
       "      <th>7</th>\n",
       "      <td>1967</td>\n",
       "      <td>499930</td>\n",
       "      <td>2</td>\n",
       "    </tr>\n",
       "    <tr>\n",
       "      <th>8</th>\n",
       "      <td>1968</td>\n",
       "      <td>595010</td>\n",
       "      <td>0</td>\n",
       "    </tr>\n",
       "    <tr>\n",
       "      <th>9</th>\n",
       "      <td>1969</td>\n",
       "      <td>661870</td>\n",
       "      <td>1</td>\n",
       "    </tr>\n",
       "    <tr>\n",
       "      <th>10</th>\n",
       "      <td>1970</td>\n",
       "      <td>738820</td>\n",
       "      <td>0</td>\n",
       "    </tr>\n",
       "    <tr>\n",
       "      <th>11</th>\n",
       "      <td>1971</td>\n",
       "      <td>816500</td>\n",
       "      <td>4</td>\n",
       "    </tr>\n",
       "    <tr>\n",
       "      <th>12</th>\n",
       "      <td>1972</td>\n",
       "      <td>834900</td>\n",
       "      <td>2</td>\n",
       "    </tr>\n",
       "    <tr>\n",
       "      <th>13</th>\n",
       "      <td>1973</td>\n",
       "      <td>875910</td>\n",
       "      <td>2</td>\n",
       "    </tr>\n",
       "    <tr>\n",
       "      <th>14</th>\n",
       "      <td>1974</td>\n",
       "      <td>974720</td>\n",
       "      <td>1</td>\n",
       "    </tr>\n",
       "    <tr>\n",
       "      <th>15</th>\n",
       "      <td>1975</td>\n",
       "      <td>1039710</td>\n",
       "      <td>0</td>\n",
       "    </tr>\n",
       "    <tr>\n",
       "      <th>16</th>\n",
       "      <td>1976</td>\n",
       "      <td>1004210</td>\n",
       "      <td>1</td>\n",
       "    </tr>\n",
       "    <tr>\n",
       "      <th>17</th>\n",
       "      <td>1977</td>\n",
       "      <td>1029580</td>\n",
       "      <td>0</td>\n",
       "    </tr>\n",
       "    <tr>\n",
       "      <th>18</th>\n",
       "      <td>1978</td>\n",
       "      <td>1085550</td>\n",
       "      <td>0</td>\n",
       "    </tr>\n",
       "    <tr>\n",
       "      <th>19</th>\n",
       "      <td>1979</td>\n",
       "      <td>1208030</td>\n",
       "      <td>2</td>\n",
       "    </tr>\n",
       "    <tr>\n",
       "      <th>20</th>\n",
       "      <td>1980</td>\n",
       "      <td>1344520</td>\n",
       "      <td>1</td>\n",
       "    </tr>\n",
       "    <tr>\n",
       "      <th>21</th>\n",
       "      <td>1981</td>\n",
       "      <td>1361820</td>\n",
       "      <td>3</td>\n",
       "    </tr>\n",
       "    <tr>\n",
       "      <th>22</th>\n",
       "      <td>1982</td>\n",
       "      <td>1322390</td>\n",
       "      <td>1</td>\n",
       "    </tr>\n",
       "    <tr>\n",
       "      <th>23</th>\n",
       "      <td>1983</td>\n",
       "      <td>1258087</td>\n",
       "      <td>3</td>\n",
       "    </tr>\n",
       "    <tr>\n",
       "      <th>24</th>\n",
       "      <td>1984</td>\n",
       "      <td>1273282</td>\n",
       "      <td>3</td>\n",
       "    </tr>\n",
       "    <tr>\n",
       "      <th>25</th>\n",
       "      <td>1985</td>\n",
       "      <td>1327767</td>\n",
       "      <td>2</td>\n",
       "    </tr>\n",
       "    <tr>\n",
       "      <th>26</th>\n",
       "      <td>1986</td>\n",
       "      <td>1489169</td>\n",
       "      <td>2</td>\n",
       "    </tr>\n",
       "    <tr>\n",
       "      <th>27</th>\n",
       "      <td>1987</td>\n",
       "      <td>1483999</td>\n",
       "      <td>5</td>\n",
       "    </tr>\n",
       "    <tr>\n",
       "      <th>28</th>\n",
       "      <td>1988</td>\n",
       "      <td>1566221</td>\n",
       "      <td>4</td>\n",
       "    </tr>\n",
       "    <tr>\n",
       "      <th>29</th>\n",
       "      <td>1989</td>\n",
       "      <td>1646037</td>\n",
       "      <td>4</td>\n",
       "    </tr>\n",
       "    <tr>\n",
       "      <th>30</th>\n",
       "      <td>1990</td>\n",
       "      <td>1820127</td>\n",
       "      <td>5</td>\n",
       "    </tr>\n",
       "    <tr>\n",
       "      <th>31</th>\n",
       "      <td>1991</td>\n",
       "      <td>1911767</td>\n",
       "      <td>9</td>\n",
       "    </tr>\n",
       "    <tr>\n",
       "      <th>32</th>\n",
       "      <td>1992</td>\n",
       "      <td>1932274</td>\n",
       "      <td>8</td>\n",
       "    </tr>\n",
       "    <tr>\n",
       "      <th>33</th>\n",
       "      <td>1993</td>\n",
       "      <td>1926017</td>\n",
       "      <td>8</td>\n",
       "    </tr>\n",
       "    <tr>\n",
       "      <th>34</th>\n",
       "      <td>1994</td>\n",
       "      <td>1857670</td>\n",
       "      <td>16</td>\n",
       "    </tr>\n",
       "    <tr>\n",
       "      <th>35</th>\n",
       "      <td>1995</td>\n",
       "      <td>1798792</td>\n",
       "      <td>17</td>\n",
       "    </tr>\n",
       "    <tr>\n",
       "      <th>36</th>\n",
       "      <td>1996</td>\n",
       "      <td>1688540</td>\n",
       "      <td>23</td>\n",
       "    </tr>\n",
       "    <tr>\n",
       "      <th>37</th>\n",
       "      <td>1997</td>\n",
       "      <td>1636096</td>\n",
       "      <td>25</td>\n",
       "    </tr>\n",
       "    <tr>\n",
       "      <th>38</th>\n",
       "      <td>1998</td>\n",
       "      <td>1533887</td>\n",
       "      <td>20</td>\n",
       "    </tr>\n",
       "    <tr>\n",
       "      <th>39</th>\n",
       "      <td>1999</td>\n",
       "      <td>1426044</td>\n",
       "      <td>23</td>\n",
       "    </tr>\n",
       "    <tr>\n",
       "      <th>40</th>\n",
       "      <td>2000</td>\n",
       "      <td>1425486</td>\n",
       "      <td>26</td>\n",
       "    </tr>\n",
       "    <tr>\n",
       "      <th>41</th>\n",
       "      <td>2001</td>\n",
       "      <td>1439480</td>\n",
       "      <td>41</td>\n",
       "    </tr>\n",
       "    <tr>\n",
       "      <th>42</th>\n",
       "      <td>2002</td>\n",
       "      <td>1423677</td>\n",
       "      <td>35</td>\n",
       "    </tr>\n",
       "    <tr>\n",
       "      <th>43</th>\n",
       "      <td>2003</td>\n",
       "      <td>1383676</td>\n",
       "      <td>31</td>\n",
       "    </tr>\n",
       "    <tr>\n",
       "      <th>44</th>\n",
       "      <td>2004</td>\n",
       "      <td>1360088</td>\n",
       "      <td>22</td>\n",
       "    </tr>\n",
       "    <tr>\n",
       "      <th>45</th>\n",
       "      <td>2005</td>\n",
       "      <td>1390745</td>\n",
       "      <td>24</td>\n",
       "    </tr>\n",
       "    <tr>\n",
       "      <th>46</th>\n",
       "      <td>2006</td>\n",
       "      <td>1435123</td>\n",
       "      <td>21</td>\n",
       "    </tr>\n",
       "    <tr>\n",
       "      <th>47</th>\n",
       "      <td>2007</td>\n",
       "      <td>1422970</td>\n",
       "      <td>27</td>\n",
       "    </tr>\n",
       "    <tr>\n",
       "      <th>48</th>\n",
       "      <td>2008</td>\n",
       "      <td>1394461</td>\n",
       "      <td>22</td>\n",
       "    </tr>\n",
       "    <tr>\n",
       "      <th>49</th>\n",
       "      <td>2009</td>\n",
       "      <td>1325896</td>\n",
       "      <td>29</td>\n",
       "    </tr>\n",
       "    <tr>\n",
       "      <th>50</th>\n",
       "      <td>2010</td>\n",
       "      <td>1251248</td>\n",
       "      <td>24</td>\n",
       "    </tr>\n",
       "    <tr>\n",
       "      <th>51</th>\n",
       "      <td>2011</td>\n",
       "      <td>1206031</td>\n",
       "      <td>19</td>\n",
       "    </tr>\n",
       "    <tr>\n",
       "      <th>52</th>\n",
       "      <td>2012</td>\n",
       "      <td>1214464</td>\n",
       "      <td>27</td>\n",
       "    </tr>\n",
       "  </tbody>\n",
       "</table>\n",
       "</div>"
      ],
      "text/plain": [
       "    year  violent crime  movies\n",
       "0   1960         288460       0\n",
       "1   1961         289390       1\n",
       "2   1962         301510       1\n",
       "3   1963         316970       1\n",
       "4   1964         364220       0\n",
       "5   1965         387390       0\n",
       "6   1966         430180       1\n",
       "7   1967         499930       2\n",
       "8   1968         595010       0\n",
       "9   1969         661870       1\n",
       "10  1970         738820       0\n",
       "11  1971         816500       4\n",
       "12  1972         834900       2\n",
       "13  1973         875910       2\n",
       "14  1974         974720       1\n",
       "15  1975        1039710       0\n",
       "16  1976        1004210       1\n",
       "17  1977        1029580       0\n",
       "18  1978        1085550       0\n",
       "19  1979        1208030       2\n",
       "20  1980        1344520       1\n",
       "21  1981        1361820       3\n",
       "22  1982        1322390       1\n",
       "23  1983        1258087       3\n",
       "24  1984        1273282       3\n",
       "25  1985        1327767       2\n",
       "26  1986        1489169       2\n",
       "27  1987        1483999       5\n",
       "28  1988        1566221       4\n",
       "29  1989        1646037       4\n",
       "30  1990        1820127       5\n",
       "31  1991        1911767       9\n",
       "32  1992        1932274       8\n",
       "33  1993        1926017       8\n",
       "34  1994        1857670      16\n",
       "35  1995        1798792      17\n",
       "36  1996        1688540      23\n",
       "37  1997        1636096      25\n",
       "38  1998        1533887      20\n",
       "39  1999        1426044      23\n",
       "40  2000        1425486      26\n",
       "41  2001        1439480      41\n",
       "42  2002        1423677      35\n",
       "43  2003        1383676      31\n",
       "44  2004        1360088      22\n",
       "45  2005        1390745      24\n",
       "46  2006        1435123      21\n",
       "47  2007        1422970      27\n",
       "48  2008        1394461      22\n",
       "49  2009        1325896      29\n",
       "50  2010        1251248      24\n",
       "51  2011        1206031      19\n",
       "52  2012        1214464      27"
      ]
     },
     "execution_count": 48,
     "metadata": {},
     "output_type": "execute_result"
    }
   ],
   "source": [
    "#Creating a final report that contains year, violent crime, movies(contains the violent key words) nationally\n",
    "col = ['year', 'violent crime', 'movies']\n",
    "final_report = pd.DataFrame(columns = col)\n",
    "final_report['year'] = selection['Year']\n",
    "final_report['violent crime'] = selection['Violent crime total']\n",
    "final_report['movies'] = vector\n",
    "final_report"
   ]
  },
  {
   "cell_type": "code",
   "execution_count": 49,
   "metadata": {
    "collapsed": false
   },
   "outputs": [
    {
     "data": {
      "text/plain": [
       "<matplotlib.text.Text at 0x112bd7cc0>"
      ]
     },
     "execution_count": 49,
     "metadata": {},
     "output_type": "execute_result"
    },
    {
     "data": {
      "image/png": "[encoded data removed]",
      "text/plain": [
       "<matplotlib.figure.Figure at 0x112b33278>"
      ]
     },
     "metadata": {},
     "output_type": "display_data"
    }
   ],
   "source": [
    "#Plot the result\n",
    "plt.figure(figsize = (15, 10))\n",
    "plt.scatter(final_report['violent crime'], final_report['movies'])\n",
    "plt.title(\"Number of movies vs. Violent crimes\")\n",
    "for label, movie_count, crime_count in zip(final_report['year'], final_report['movies'], final_report['violent crime']):\n",
    "    plt.annotate(label, xy = (crime_count, movie_count), xytext = (1, -1), textcoords = 'offset points')\n",
    "    \n",
    "plt.xlabel('Number of Violent crimes')\n",
    "plt.ylabel('Number of Violent keywords in Movies')\n"
   ]
  },
  {
   "cell_type": "markdown",
   "metadata": {
    "collapsed": true
   },
   "source": [
    "Data Analysis & Results"
   ]
  },
  {
   "cell_type": "raw",
   "metadata": {},
   "source": [
    "We want to see if on a national scale there is an association between the year and the number of each type of crime committed. We will run a chi squared test. This will allow us to later compare it to the results of a chi squared test between year and the number of each type of crime committed in San Diego."
   ]
  },
  {
   "cell_type": "code",
   "execution_count": 159,
   "metadata": {
    "collapsed": false
   },
   "outputs": [],
   "source": [
    "valueN, pN, dfN, expectedN = chi2_contingency(observed= reportNational_pivot)\n"
   ]
  },
  {
   "cell_type": "raw",
   "metadata": {},
   "source": [
    "Nationally there seems to be an association between year and type of crime committed. However, our time frame is much larger nationally than our time frame for San Diego. So we will see if there is still an association on a national level between the years 2008 and 2012. "
   ]
  },
  {
   "cell_type": "code",
   "execution_count": 158,
   "metadata": {
    "collapsed": false
   },
   "outputs": [
    {
     "data": {
      "text/plain": [
       "243072.09310896182"
      ]
     },
     "execution_count": 158,
     "metadata": {},
     "output_type": "execute_result"
    }
   ],
   "source": [
    "part_of_national = reportNational[48:53]\n",
    "valuepN, pPN, dfPN, expectedPN= chi2_contingency(observed= part_of_national)\n"
   ]
  },
  {
   "cell_type": "raw",
   "metadata": {},
   "source": [
    "We want to check if there is any relation between year and the number of movies released in each genre. We will run a chi-squared test to see if there is an association. We don't expect there to be an association, but we will run the test to be sure."
   ]
  },
  {
   "cell_type": "code",
   "execution_count": 124,
   "metadata": {
    "collapsed": false
   },
   "outputs": [
    {
     "name": "stdout",
     "output_type": "stream",
     "text": [
      "0.984870188048\n"
     ]
    }
   ],
   "source": [
    "valueG, pG, dfG, expectedG = chi2_contingency(observed= genresY)\n",
    "print(pG)\n"
   ]
  },
  {
   "cell_type": "raw",
   "metadata": {},
   "source": [
    "Given the high p-value, we can conclude that there is no association between the two variables. For consistency we will run another chi-squared test on year and the number of each type of crime."
   ]
  },
  {
   "cell_type": "code",
   "execution_count": 125,
   "metadata": {
    "collapsed": false,
    "scrolled": true
   },
   "outputs": [
    {
     "name": "stdout",
     "output_type": "stream",
     "text": [
      "0.489253717784\n"
     ]
    }
   ],
   "source": [
    "\n",
    "valueC, pC, dfC, expectedC = chi2_contingency(observed = crime_no_zero )\n",
    "print(pC)"
   ]
  },
  {
   "cell_type": "raw",
   "metadata": {},
   "source": [
    "The p-value here is high as well meaning that there is no association between the two variables. Since we don't have an association between the types of crimes and year and the types of movies and year, we will now focus our search on a more narrow scope. We will see if there is an association between the number of violent crimes committed in a year nationally, and the number of American movies released in a year under the genres Action, Crime, War and Horror. We created a scatter plot above and the relationship does not appear to be entirely linear but we will run a regression test to be sure. In this case our null hypothesis is that there is no significant relationship in the number of violent crimes committed in a year and the number of movies released in those specific genres. "
   ]
  },
  {
   "cell_type": "code",
   "execution_count": 52,
   "metadata": {
    "collapsed": false
   },
   "outputs": [
    {
     "data": {
      "text/plain": [
       "<matplotlib.axes._subplots.AxesSubplot at 0x112848ba8>"
      ]
     },
     "execution_count": 52,
     "metadata": {},
     "output_type": "execute_result"
    },
    {
     "data": {
      "image/png": "[encoded data removed]",
      "text/plain": [
       "<matplotlib.figure.Figure at 0x1088b7e10>"
      ]
     },
     "metadata": {},
     "output_type": "display_data"
    }
   ],
   "source": [
    "a1, b1 = np.polyfit(final_report['violent crime'], final_report['movies'], 1)\n",
    "sns.regplot(final_report['violent crime'], final_report['movies'])"
   ]
  },
  {
   "cell_type": "code",
   "execution_count": 53,
   "metadata": {
    "collapsed": false
   },
   "outputs": [
    {
     "name": "stdout",
     "output_type": "stream",
     "text": [
      "                            OLS Regression Results                            \n",
      "==============================================================================\n",
      "Dep. Variable:          violent crime   R-squared:                       0.567\n",
      "Model:                            OLS   Adj. R-squared:                  0.559\n",
      "Method:                 Least Squares   F-statistic:                     68.13\n",
      "Date:                Tue, 13 Jun 2017   Prob (F-statistic):           5.06e-11\n",
      "Time:                        11:53:29   Log-Likelihood:                -798.18\n",
      "No. Observations:                  53   AIC:                             1598.\n",
      "Df Residuals:                      52   BIC:                             1600.\n",
      "Df Model:                           1                                         \n",
      "Covariance Type:            nonrobust                                         \n",
      "==============================================================================\n",
      "                 coef    std err          t      P>|t|      [95.0% Conf. Int.]\n",
      "------------------------------------------------------------------------------\n",
      "movies      6.196e+04   7506.389      8.254      0.000      4.69e+04   7.7e+04\n",
      "==============================================================================\n",
      "Omnibus:                        2.676   Durbin-Watson:                   0.091\n",
      "Prob(Omnibus):                  0.262   Jarque-Bera (JB):                2.332\n",
      "Skew:                          -0.407   Prob(JB):                        0.312\n",
      "Kurtosis:                       2.373   Cond. No.                         1.00\n",
      "==============================================================================\n",
      "\n",
      "Warnings:\n",
      "[1] Standard Errors assume that the covariance matrix of the errors is correctly specified.\n"
     ]
    }
   ],
   "source": [
    "#sm.OLS()\n",
    "result = sm.OLS(final_report['violent crime'], final_report['movies']).fit()\n",
    "print(result.summary())"
   ]
  },
  {
   "cell_type": "raw",
   "metadata": {
    "collapsed": true
   },
   "source": [
    "The results shown above tell us that R-squared is 0.567 which gives us an R value of 0.752 . Since the p-value is much smalled than 0.05, we can reject our null hypothesis that there is no linear relationship between the number of violent crimes committed in a year and the number of Action, Horror, War and Crime related movies released. It is important to note that initially the conditions for inference weren't completely met since the relationship doesn't look linear. "
   ]
  },
  {
   "cell_type": "code",
   "execution_count": null,
   "metadata": {
    "collapsed": true
   },
   "outputs": [],
   "source": []
  }
 ],
 "metadata": {
  "kernelspec": {
   "display_name": "Python 3",
   "language": "python",
   "name": "python3"
  },
  "language_info": {
   "codemirror_mode": {
    "name": "ipython",
    "version": 3
   },
   "file_extension": ".py",
   "mimetype": "text/x-python",
   "name": "python",
   "nbconvert_exporter": "python",
   "pygments_lexer": "ipython3",
   "version": "3.6.0"
  }
 },
 "nbformat": 4,
 "nbformat_minor": 2
}
